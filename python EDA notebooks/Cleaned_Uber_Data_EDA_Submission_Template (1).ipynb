{
  "nbformat": 4,
  "nbformat_minor": 0,
  "metadata": {
    "colab": {
      "private_outputs": true,
      "provenance": []
    },
    "kernelspec": {
      "name": "python3",
      "display_name": "Python 3"
    },
    "language_info": {
      "name": "python"
    }
  },
  "cells": [
    {
      "cell_type": "markdown",
      "source": [
        "# **Project Name**    - UBER SUPPLY DEMAND GAP\n",
        "\n"
      ],
      "metadata": {
        "id": "vncDsAP0Gaoa"
      }
    },
    {
      "cell_type": "markdown",
      "source": [
        "##### **Project Type**    - EDA/Regression/Classification/Unsupervised\n",
        "##### **Contribution**    - Individual\n",
        "##### **Member 1 -** - Tushar Garg\n"
      ],
      "metadata": {
        "id": "beRrZCGUAJYm"
      }
    },
    {
      "cell_type": "markdown",
      "source": [
        "# **Project Summary -**\n",
        "This project focuses on analyzing and visualizing Uber ride request data to understand patterns in demand, supply, and service gaps. Using advanced data analytics techniques, we aim to uncover critical insights that can help Uber improve ride fulfillment rates, allocate resources more efficiently, and enhance customer satisfaction.\n",
        "\n",
        " A :- Objective\n",
        "\n",
        "The primary goal of this project is to identify when and where Uber experiences significant supply-demand mismatches. Specifically, we explore the following key questions:\n",
        "\n",
        "When is demand highest and lowest?\n",
        "\n",
        "Which time slots and locations have the most unfulfilled ride requests?\n",
        "\n",
        "What are the primary reasons for failed ride requests — cancellations or lack of available drivers?\n",
        "\n",
        "How can Uber optimize driver deployment to improve fulfillment?\n",
        "\n",
        "B:- Dataset Description\n",
        "\n",
        "The dataset used in this project contains thousands of anonymized Uber ride requests. Each record includes:\n",
        "\n",
        "Request timestamp\n",
        "\n",
        "Drop timestamp\n",
        "\n",
        "Pickup point (City or Airport)\n",
        "\n",
        "Driver ID (or blank if no driver was assigned)\n",
        "\n",
        "Ride status (Trip Completed, Cancelled, No Cars Available)\n",
        "\n",
        "We cleaned the dataset to extract:\n",
        "\n",
        "Hour of request\n",
        "\n",
        "Day of week\n",
        "\n",
        "Time Slot (Morning, Afternoon, Evening, Night)\n",
        "\n",
        "We also handled missing values, standardized formats, and created new derived columns to support deeper insights.\n",
        "\n",
        "C:- Tools and Techniques Used\n",
        "\n",
        "Python (Pandas, Seaborn, Matplotlib) for EDA and visualization\n",
        "\n",
        "SQL for structured queries and validation\n",
        "\n",
        "Excel for final dashboards and KPI creation\n",
        "\n",
        "Pivot Tables and Charts for interactive visual analysis\n",
        "\n",
        "Slicers, Heatmaps, and Conditional Formatting for presentation-quality insights\n",
        "\n",
        "D:- Analysis Framework\n",
        "\n",
        "We followed the UBM Analysis Structure:\n",
        "\n",
        "Univariate Analysis – Focused on single variables like Time Slot, Status, Pickup Point\n",
        "\n",
        "Bivariate Analysis – Explored interactions between two variables, such as Time Slot vs Status\n",
        "\n",
        "Multivariate Analysis – Evaluated multiple variables simultaneously, such as Pickup Point vs Time Slot vs Status\n",
        "\n",
        "A total of 20 charts were created, providing detailed visual analysis across these dimensions.\n",
        "\n",
        "E:- Key Insights\n",
        "\n",
        "Peak Demand occurs during Morning and Evening, especially at the Airport.\n",
        "\n",
        "Trip Completion Rate is less than 50%, revealing a large unmet demand.\n",
        "\n",
        "Failures are largely due to \"No Cars Available\" at Night and \"Cancellations\" in the Morning.\n",
        "\n",
        "The Airport location consistently underperforms in fulfillment, especially during Night slots.\n",
        "\n",
        "Supply Gap Rate is high (>50%), indicating a major business challenge.\n",
        "\n",
        "Multivariate Heatmaps highlight that early morning hours on weekends are the worst performing windows.\n",
        "\n",
        "F:- Final Deliverables\n",
        "\n",
        "Cleaned Dataset (.csv)\n",
        "\n",
        "Python EDA Notebook (.ipynb)\n",
        "\n",
        "SQL Query File with all 20 chart insights\n",
        "\n",
        "Excel Dashboard with charts, slicers, and KPIs\n",
        "\n",
        "PDF Summary Report compiling insights and recommendations\n",
        "\n",
        "G:- Business Impact\n",
        "\n",
        "The insights provided by this project can directly help Uber:\n",
        "\n",
        "Deploy drivers during peak demand slots\n",
        "\n",
        "Improve ride fulfillment rates\n",
        "\n",
        "Reduce cancellations and customer churn\n",
        "\n",
        "Optimize operations between City and Airport pickup points\n",
        "\n",
        "This project showcases how structured data analytics and visualization can turn raw ride logs into actionable strategies for smarter mobility services.\n",
        "\n",
        "\n"
      ],
      "metadata": {
        "id": "FJNUwmbgGyua"
      }
    },
    {
      "cell_type": "markdown",
      "source": [
        "Write the summary here within 500-600 words."
      ],
      "metadata": {
        "id": "F6v_1wHtG2nS"
      }
    },
    {
      "cell_type": "markdown",
      "source": [
        "# **GitHub Link -**"
      ],
      "metadata": {
        "id": "w6K7xa23Elo4"
      }
    },
    {
      "cell_type": "markdown",
      "source": [
        "Provide your GitHub Link here.\n",
        "\n",
        "https://github.com/Tushargtech/uber-supply-demand-gap-project"
      ],
      "metadata": {
        "id": "h1o69JH3Eqqn"
      }
    },
    {
      "cell_type": "markdown",
      "source": [
        "# **Problem Statement**\n"
      ],
      "metadata": {
        "id": "yQaldy8SH6Dl"
      }
    },
    {
      "cell_type": "markdown",
      "source": [
        "**Write Problem Statement Here.**\n",
        "\n",
        "This project aims to analyze Uber ride request data to identify the patterns and causes of ride failures, such as driver cancellations and unavailability of cars.\n",
        "\n",
        "Experiences fluctuations in ride requests across different times of the day and locations. A major challenge the company faces is the supply-demand mismatch, where user demand often exceeds the number of available drivers, leading to unfulfilled ride requests, customer dissatisfaction, and lost revenue opportunities.\n",
        "\n",
        "By uncovering when (time slots), where (pickup points), and why (status) these issues occur, the project seeks to provide data-driven insights to help Uber."
      ],
      "metadata": {
        "id": "DpeJGUA3kjGy"
      }
    },
    {
      "cell_type": "markdown",
      "source": [
        "#### **Define Your Business Objective?**\n",
        "The primary business objective of this project is to identify and understand the supply-demand gap in Uber ride requests, with the goal of improving ride fulfillment rates and enhancing customer satisfaction. This involves analyzing when, where, and why Uber is unable to meet user demand—whether due to unavailability of drivers, high cancellation rates, or operational inefficiencies.\n",
        "\n"
      ],
      "metadata": {
        "id": "PH-0ReGfmX4f"
      }
    },
    {
      "cell_type": "markdown",
      "source": [
        "# **General Guidelines** : -  "
      ],
      "metadata": {
        "id": "mDgbUHAGgjLW"
      }
    },
    {
      "cell_type": "markdown",
      "source": [
        "1.   Well-structured, formatted, and commented code is required.\n",
        "2.   Exception Handling, Production Grade Code & Deployment Ready Code will be a plus. Those students will be awarded some additional credits.\n",
        "     \n",
        "     The additional credits will have advantages over other students during Star Student selection.\n",
        "       \n",
        "             [ Note: - Deployment Ready Code is defined as, the whole .ipynb notebook should be executable in one go\n",
        "                       without a single error logged. ]\n",
        "\n",
        "3.   Each and every logic should have proper comments.\n",
        "4. You may add as many number of charts you want. Make Sure for each and every chart the following format should be answered.\n",
        "        \n",
        "\n",
        "```\n",
        "# Chart visualization code\n",
        "```\n",
        "            \n",
        "\n",
        "*   Why did you pick the specific chart?\n",
        "*   What is/are the insight(s) found from the chart?\n",
        "* Will the gained insights help creating a positive business impact?\n",
        "Are there any insights that lead to negative growth? Justify with specific reason.\n",
        "\n",
        "5. You have to create at least 20 logical & meaningful charts having important insights.\n",
        "\n",
        "\n",
        "[ Hints : - Do the Vizualization in  a structured way while following \"UBM\" Rule.\n",
        "\n",
        "U - Univariate Analysis,\n",
        "\n",
        "B - Bivariate Analysis (Numerical - Categorical, Numerical - Numerical, Categorical - Categorical)\n",
        "\n",
        "M - Multivariate Analysis\n",
        " ]\n",
        "\n",
        "\n",
        "\n"
      ],
      "metadata": {
        "id": "ZrxVaUj-hHfC"
      }
    },
    {
      "cell_type": "markdown",
      "source": [
        "# ***Let's Begin !***"
      ],
      "metadata": {
        "id": "O_i_v8NEhb9l"
      }
    },
    {
      "cell_type": "markdown",
      "source": [
        "## ***1. Know Your Data***"
      ],
      "metadata": {
        "id": "HhfV-JJviCcP"
      }
    },
    {
      "cell_type": "markdown",
      "source": [
        "Dataset Link :- https://github.com/Tushargtech/uber-supply-demand-gap-project/blob/main/Excel%20data/data_cleaning.xlsx"
      ],
      "metadata": {
        "id": "6Bi6_gpTjFpV"
      }
    },
    {
      "cell_type": "markdown",
      "source": [
        "### Import Libraries"
      ],
      "metadata": {
        "id": "Y3lxredqlCYt"
      }
    },
    {
      "cell_type": "code",
      "source": [
        "# Import Libraries\n",
        "\n",
        "\n",
        "import pandas as pd\n",
        "import io\n",
        "import matplotlib.pyplot as plt\n",
        "import seaborn as sns"
      ],
      "metadata": {
        "id": "M8Vqi-pPk-HR"
      },
      "execution_count": null,
      "outputs": []
    },
    {
      "cell_type": "markdown",
      "source": [
        "### Dataset Loading"
      ],
      "metadata": {
        "id": "3RnN4peoiCZX"
      }
    },
    {
      "cell_type": "code",
      "source": [
        "#Providing dataset in GitHub Repository,choose the \"data cleaning\" file data as file path is not bieng able to traced.\n",
        "# Load Dataset\n",
        "from google.colab import files\n",
        "uploaded = files.upload()\n",
        "# Load the uploaded file\n",
        "file_name = list(uploaded.keys())[0]\n",
        "# Check the file extension to use the correct reading function\n",
        "if file_name.endswith('.csv'):\n",
        "  df = pd.read_csv(io.BytesIO(uploaded[file_name]))\n",
        "elif file_name.endswith('.xlsx'):\n",
        "  df = pd.read_excel(io.BytesIO(uploaded[file_name]))\n",
        "else:\n",
        "  print(\"Unsupported file format. Please upload a .csv or .xlsx file.\")\n",
        "  df = None\n",
        "\n",
        "if df is not None:\n",
        "  display(df.head())"
      ],
      "metadata": {
        "id": "4CkvbW_SlZ_R"
      },
      "execution_count": null,
      "outputs": []
    },
    {
      "cell_type": "code",
      "source": [
        "\n",
        "df.drop(columns=['Unnamed: 6'], inplace=True)\n",
        "df.columns"
      ],
      "metadata": {
        "id": "MUmEHN6vTZd4"
      },
      "execution_count": null,
      "outputs": []
    },
    {
      "cell_type": "markdown",
      "source": [
        "### Dataset First View"
      ],
      "metadata": {
        "id": "x71ZqKXriCWQ"
      }
    },
    {
      "cell_type": "code",
      "source": [
        "# Dataset First Look\n",
        "df.head()"
      ],
      "metadata": {
        "id": "LWNFOSvLl09H"
      },
      "execution_count": null,
      "outputs": []
    },
    {
      "cell_type": "markdown",
      "source": [
        "### Dataset Rows & Columns count"
      ],
      "metadata": {
        "id": "7hBIi_osiCS2"
      }
    },
    {
      "cell_type": "code",
      "source": [
        "# Dataset Rows & Columns count\n",
        "rows, columns = df.shape\n",
        "\n",
        "print(f\"Total Rows: {rows}\")\n",
        "print(f\"Total Columns: {columns}\")"
      ],
      "metadata": {
        "id": "Kllu7SJgmLij"
      },
      "execution_count": null,
      "outputs": []
    },
    {
      "cell_type": "markdown",
      "source": [
        "### Dataset Information"
      ],
      "metadata": {
        "id": "JlHwYmJAmNHm"
      }
    },
    {
      "cell_type": "code",
      "source": [
        "# Dataset Info\n",
        "df.info()"
      ],
      "metadata": {
        "id": "e9hRXRi6meOf"
      },
      "execution_count": null,
      "outputs": []
    },
    {
      "cell_type": "markdown",
      "source": [
        "#### Duplicate Values"
      ],
      "metadata": {
        "id": "35m5QtbWiB9F"
      }
    },
    {
      "cell_type": "code",
      "source": [
        "# Dataset Duplicate Value Count\n",
        "duplicate_count = df.duplicated().sum()\n",
        "\n",
        "print(f\"Number of duplicate rows: {duplicate_count}\")"
      ],
      "metadata": {
        "id": "1sLdpKYkmox0"
      },
      "execution_count": null,
      "outputs": []
    },
    {
      "cell_type": "markdown",
      "source": [
        "#### Missing Values/Null Values"
      ],
      "metadata": {
        "id": "PoPl-ycgm1ru"
      }
    },
    {
      "cell_type": "code",
      "source": [
        "# Missing Values/Null Values Count\n",
        "missing_values = df.isnull().sum()"
      ],
      "metadata": {
        "id": "GgHWkxvamxVg"
      },
      "execution_count": null,
      "outputs": []
    },
    {
      "cell_type": "code",
      "source": [
        "# Visualizing the missing values\n",
        "print(\"Missing Values Count:\\n\")\n",
        "print(missing_values)"
      ],
      "metadata": {
        "id": "3q5wnI3om9sJ"
      },
      "execution_count": null,
      "outputs": []
    },
    {
      "cell_type": "markdown",
      "source": [
        "### What did you know about your dataset?"
      ],
      "metadata": {
        "id": "H0kj-8xxnORC"
      }
    },
    {
      "cell_type": "markdown",
      "source": [
        "Answer Here\n",
        "\n",
        "The dataset contains detailed ride request logs from Uber, focusing on pickup and drop patterns, driver availability, and service status over a specific period. After loading and cleaning the dataset, I performed structural and exploratory analysis to understand its composition and key issues."
      ],
      "metadata": {
        "id": "gfoNAAC-nUe_"
      }
    },
    {
      "cell_type": "markdown",
      "source": [
        "## ***2. Understanding Your Variables***"
      ],
      "metadata": {
        "id": "nA9Y7ga8ng1Z"
      }
    },
    {
      "cell_type": "code",
      "source": [
        "# Dataset Columns\n",
        "print(f\"Total Columns: {columns}\")"
      ],
      "metadata": {
        "id": "j7xfkqrt5Ag5"
      },
      "execution_count": null,
      "outputs": []
    },
    {
      "cell_type": "code",
      "source": [
        "# Dataset Describe\n",
        "df.describe()"
      ],
      "metadata": {
        "id": "DnOaZdaE5Q5t"
      },
      "execution_count": null,
      "outputs": []
    },
    {
      "cell_type": "markdown",
      "source": [
        "### Variables Description"
      ],
      "metadata": {
        "id": "PBTbrJXOngz2"
      }
    },
    {
      "cell_type": "markdown",
      "source": [
        "Answer Here\n",
        "\n",
        "Request timestamp-The exact date and time when the user requested a ride. Used to extract Hour, Day, and Time Slot.\n",
        "\n",
        "Drop timestamp\t-\tThe date and time when the ride was completed. If missing, the ride was not fulfilled.\n",
        "\n",
        "Driver id\t-\tUnique identifier of the driver assigned to the ride. Blank if no driver was available.\n",
        "\n",
        "Pickup point-\tThe location where the ride was requested: either City or Airport.\n",
        "\n",
        "Status-\tThe final status of the ride\n",
        "\n"
      ],
      "metadata": {
        "id": "aJV4KIxSnxay"
      }
    },
    {
      "cell_type": "markdown",
      "source": [
        "### Check Unique Values for each variable."
      ],
      "metadata": {
        "id": "u3PMJOP6ngxN"
      }
    },
    {
      "cell_type": "code",
      "source": [
        "# Check Unique Values for each variable.\n",
        "unique_values = df.nunique()\n",
        "print(unique_values)"
      ],
      "metadata": {
        "id": "zms12Yq5n-jE"
      },
      "execution_count": null,
      "outputs": []
    },
    {
      "cell_type": "markdown",
      "source": [
        "## 3. ***Data Wrangling***"
      ],
      "metadata": {
        "id": "dauF4eBmngu3"
      }
    },
    {
      "cell_type": "markdown",
      "source": [
        "### Data Wrangling Code"
      ],
      "metadata": {
        "id": "bKJF3rekwFvQ"
      }
    },
    {
      "cell_type": "code",
      "source": [
        "# Write your code to make your dataset analysis ready.\n",
        "df['Request timestamp'] = pd.to_datetime(df['Request timestamp'], dayfirst=True)\n",
        "df['Drop timestamp'] = pd.to_datetime(df['Drop timestamp'], errors='coerce', dayfirst=True)\n",
        "df['Hour'] = df['Request timestamp'].dt.hour\n",
        "df['Day'] = df['Request timestamp'].dt.day_name()\n",
        "def get_time_slot(hour):\n",
        "    if hour < 5:\n",
        "        return \"Late Night\"\n",
        "    elif hour < 9:\n",
        "        return \"Early Morning\"\n",
        "    elif hour < 12:\n",
        "        return \"Morning\"\n",
        "    elif hour < 17:\n",
        "        return \"Afternoon\"\n",
        "    elif hour < 21:\n",
        "        return \"Evening\"\n",
        "    else:\n",
        "        return \"Night\"\n",
        "\n",
        "df['Time Slot'] = df['Hour'].apply(get_time_slot)\n"
      ],
      "metadata": {
        "id": "wk-9a2fpoLcV"
      },
      "execution_count": null,
      "outputs": []
    },
    {
      "cell_type": "markdown",
      "source": [
        "### What all manipulations have you done and insights you found?"
      ],
      "metadata": {
        "id": "MSa1f5Uengrz"
      }
    },
    {
      "cell_type": "markdown",
      "source": [
        "Answer Here.\n",
        "\n",
        "Converts the Request timestamp column from text/string format to a Python datetime object\n",
        "Converts Drop timestamp to datetime.\n",
        "\n",
        "Creates a new column Hour that extracts the hour (0–23) from the timestamp.\n",
        "\n",
        "Helps identify time-based patterns in demand and failures.\n",
        "\n",
        "Creates a Day column like Monday, Tuesday, etc.\n",
        "\n",
        "Useful for analyzing weekday vs weekend behavior."
      ],
      "metadata": {
        "id": "LbyXE7I1olp8"
      }
    },
    {
      "cell_type": "markdown",
      "source": [
        "## ***4. Data Vizualization, Storytelling & Experimenting with charts : Understand the relationships between variables***"
      ],
      "metadata": {
        "id": "GF8Ens_Soomf"
      }
    },
    {
      "cell_type": "code",
      "source": [
        "\n",
        "# ============================\n",
        "# ✅ UNIVARIATE ANALYSIS\n",
        "# ============================\n"
      ],
      "metadata": {
        "id": "z_o-D2EDX5wv"
      },
      "execution_count": null,
      "outputs": []
    },
    {
      "cell_type": "markdown",
      "source": [
        "#### Chart - 1"
      ],
      "metadata": {
        "id": "0wOQAZs5pc--"
      }
    },
    {
      "cell_type": "code",
      "source": [
        "# Chart - 1 visualization code\n",
        "plt.figure(figsize=(8,5))\n",
        "sns.countplot(data=df, x='Time Slot', order=df['Time Slot'].value_counts().index)\n",
        "plt.title(\"Total Requests by Time Slot\")\n",
        "plt.xticks(rotation=45)\n",
        "plt.tight_layout()\n",
        "plt.show()\n"
      ],
      "metadata": {
        "id": "7v_ESjsspbW7"
      },
      "execution_count": null,
      "outputs": []
    },
    {
      "cell_type": "markdown",
      "source": [
        "##### 1. Why did you pick the specific chart?"
      ],
      "metadata": {
        "id": "K5QZ13OEpz2H"
      }
    },
    {
      "cell_type": "markdown",
      "source": [
        "Answer Here.\n",
        "\n",
        "Identifies peak periods of demand throughout the day."
      ],
      "metadata": {
        "id": "XESiWehPqBRc"
      }
    },
    {
      "cell_type": "markdown",
      "source": [
        "##### 2. What is/are the insight(s) found from the chart?"
      ],
      "metadata": {
        "id": "lQ7QKXXCp7Bj"
      }
    },
    {
      "cell_type": "markdown",
      "source": [
        "Answer Here\n",
        "\n",
        "High demand during Morning and Evening."
      ],
      "metadata": {
        "id": "C_j1G7yiqdRP"
      }
    },
    {
      "cell_type": "markdown",
      "source": [
        "##### 3. Will the gained insights help creating a positive business impact?\n",
        "Are there any insights that lead to negative growth? Justify with specific reason."
      ],
      "metadata": {
        "id": "448CDAPjqfQr"
      }
    },
    {
      "cell_type": "markdown",
      "source": [
        "Answer Here\n",
        "\n",
        " Business Impact: Positive — helps allocate drivers efficiently.\n",
        "\n",
        " Risk: Missed demand = customer churn."
      ],
      "metadata": {
        "id": "3cspy4FjqxJW"
      }
    },
    {
      "cell_type": "markdown",
      "source": [
        "#### Chart - 2"
      ],
      "metadata": {
        "id": "KSlN3yHqYklG"
      }
    },
    {
      "cell_type": "code",
      "source": [
        "# Chart - 2 visualization code\n",
        "plt.figure(figsize=(6,6))\n",
        "df['Status'].value_counts().plot.pie(autopct='%1.1f%%', startangle=90)\n",
        "plt.title(\"Ride Status Distribution\")\n",
        "plt.ylabel('')\n",
        "plt.tight_layout()\n",
        "plt.show()\n"
      ],
      "metadata": {
        "id": "R4YgtaqtYklH"
      },
      "execution_count": null,
      "outputs": []
    },
    {
      "cell_type": "markdown",
      "source": [
        "##### 1. Why did you pick the specific chart?"
      ],
      "metadata": {
        "id": "t6dVpIINYklI"
      }
    },
    {
      "cell_type": "markdown",
      "source": [
        "Answer Here.\n",
        "\n",
        "Understand how rides are fulfilled or fail."
      ],
      "metadata": {
        "id": "5aaW0BYyYklI"
      }
    },
    {
      "cell_type": "markdown",
      "source": [
        "##### 2. What is/are the insight(s) found from the chart?"
      ],
      "metadata": {
        "id": "ijmpgYnKYklI"
      }
    },
    {
      "cell_type": "markdown",
      "source": [
        "Answer Here\n",
        "\n",
        "A large share of rides are either cancelled or unfulfilled."
      ],
      "metadata": {
        "id": "PSx9atu2YklI"
      }
    },
    {
      "cell_type": "markdown",
      "source": [
        "##### 3. Will the gained insights help creating a positive business impact?\n",
        "Are there any insights that lead to negative growth? Justify with specific reason."
      ],
      "metadata": {
        "id": "-JiQyfWJYklI"
      }
    },
    {
      "cell_type": "markdown",
      "source": [
        "Answer Here\n",
        "\n",
        "Business Impact: Negative — points to reliability issues."
      ],
      "metadata": {
        "id": "BcBbebzrYklV"
      }
    },
    {
      "cell_type": "markdown",
      "source": [
        "#### Chart - 3"
      ],
      "metadata": {
        "id": "EM7whBJCYoAo"
      }
    },
    {
      "cell_type": "code",
      "source": [
        "# Chart - 3 visualization code\n",
        "sns.countplot(data=df, x='Pickup point')\n",
        "plt.title(\"Requests by Pickup Point\")\n",
        "plt.show()\n"
      ],
      "metadata": {
        "id": "t6GMdE67YoAp"
      },
      "execution_count": null,
      "outputs": []
    },
    {
      "cell_type": "markdown",
      "source": [
        "##### 1. Why did you pick the specific chart?"
      ],
      "metadata": {
        "id": "fge-S5ZAYoAp"
      }
    },
    {
      "cell_type": "markdown",
      "source": [
        "Answer Here.\n",
        "\n",
        "Shows which location (City/Airport) has more demand."
      ],
      "metadata": {
        "id": "5dBItgRVYoAp"
      }
    },
    {
      "cell_type": "markdown",
      "source": [
        "##### 2. What is/are the insight(s) found from the chart?"
      ],
      "metadata": {
        "id": "85gYPyotYoAp"
      }
    },
    {
      "cell_type": "markdown",
      "source": [
        "Answer Here\n",
        "\n",
        "Airport has more frequent requests."
      ],
      "metadata": {
        "id": "4jstXR6OYoAp"
      }
    },
    {
      "cell_type": "markdown",
      "source": [
        "##### 3. Will the gained insights help creating a positive business impact?\n",
        "Are there any insights that lead to negative growth? Justify with specific reason."
      ],
      "metadata": {
        "id": "RoGjAbkUYoAp"
      }
    },
    {
      "cell_type": "markdown",
      "source": [
        "Answer Here\n",
        "\n",
        "Business Impact: Positive — guide for targeted driver allocation."
      ],
      "metadata": {
        "id": "zfJ8IqMcYoAp"
      }
    },
    {
      "cell_type": "markdown",
      "source": [
        "#### Chart - 4"
      ],
      "metadata": {
        "id": "4Of9eVA-YrdM"
      }
    },
    {
      "cell_type": "code",
      "source": [
        "# Chart - 4 visualization code\n",
        "sns.countplot(data=df, x='Hour')\n",
        "plt.title(\"Hourly Ride Requests\")\n",
        "plt.show()\n"
      ],
      "metadata": {
        "id": "irlUoxc8YrdO"
      },
      "execution_count": null,
      "outputs": []
    },
    {
      "cell_type": "markdown",
      "source": [
        "##### 1. Why did you pick the specific chart?"
      ],
      "metadata": {
        "id": "iky9q4vBYrdO"
      }
    },
    {
      "cell_type": "markdown",
      "source": [
        "Answer Here.\n",
        "\n",
        "Reveal demand distribution across hours."
      ],
      "metadata": {
        "id": "aJRCwT6DYrdO"
      }
    },
    {
      "cell_type": "markdown",
      "source": [
        "##### 2. What is/are the insight(s) found from the chart?"
      ],
      "metadata": {
        "id": "F6T5p64dYrdO"
      }
    },
    {
      "cell_type": "markdown",
      "source": [
        "Answer Here\n",
        "\n",
        "Peaks around early morning and evening."
      ],
      "metadata": {
        "id": "Xx8WAJvtYrdO"
      }
    },
    {
      "cell_type": "markdown",
      "source": [
        "##### 3. Will the gained insights help creating a positive business impact?\n",
        "Are there any insights that lead to negative growth? Justify with specific reason."
      ],
      "metadata": {
        "id": "y-Ehk30pYrdP"
      }
    },
    {
      "cell_type": "markdown",
      "source": [
        "Answer Here\n",
        "\n",
        "Business Impact: Positive — helps manage shift planning."
      ],
      "metadata": {
        "id": "jLNxxz7MYrdP"
      }
    },
    {
      "cell_type": "markdown",
      "source": [
        "#### Chart - 5"
      ],
      "metadata": {
        "id": "bamQiAODYuh1"
      }
    },
    {
      "cell_type": "code",
      "source": [
        "# Chart - 5 visualization code\n",
        "sns.countplot(data=df, x='Day', order=[\"Monday\",\"Tuesday\",\"Wednesday\",\"Thursday\",\"Friday\",\"Saturday\",\"Sunday\"])\n",
        "plt.title(\"Ride Requests by Day of Week\")\n",
        "plt.xticks(rotation=45)\n",
        "plt.show()"
      ],
      "metadata": {
        "id": "TIJwrbroYuh3"
      },
      "execution_count": null,
      "outputs": []
    },
    {
      "cell_type": "markdown",
      "source": [
        "##### 1. Why did you pick the specific chart?"
      ],
      "metadata": {
        "id": "QHF8YVU7Yuh3"
      }
    },
    {
      "cell_type": "markdown",
      "source": [
        "Answer Here.\n",
        "\n",
        " Compare day-of-week demand."
      ],
      "metadata": {
        "id": "dcxuIMRPYuh3"
      }
    },
    {
      "cell_type": "markdown",
      "source": [
        "##### 2. What is/are the insight(s) found from the chart?"
      ],
      "metadata": {
        "id": "GwzvFGzlYuh3"
      }
    },
    {
      "cell_type": "markdown",
      "source": [
        "Answer Here\n",
        "\n",
        " Demand is slightly higher on weekdays."
      ],
      "metadata": {
        "id": "uyqkiB8YYuh3"
      }
    },
    {
      "cell_type": "markdown",
      "source": [
        "##### 3. Will the gained insights help creating a positive business impact?\n",
        "Are there any insights that lead to negative growth? Justify with specific reason."
      ],
      "metadata": {
        "id": "qYpmQ266Yuh3"
      }
    },
    {
      "cell_type": "markdown",
      "source": [
        "Answer Here\n",
        "\n",
        "Business Impact: Moderate — helps plan weekly schedules."
      ],
      "metadata": {
        "id": "_WtzZ_hCYuh4"
      }
    },
    {
      "cell_type": "markdown",
      "source": [
        "#### Chart - 6"
      ],
      "metadata": {
        "id": "OH-pJp9IphqM"
      }
    },
    {
      "cell_type": "code",
      "source": [
        "# Chart - 6 visualization code\n",
        "missing_drivers = df['Driver id'].isna().sum()\n",
        "print(f\"Number of missing driver IDs: {missing_drivers}\")\n"
      ],
      "metadata": {
        "id": "kuRf4wtuphqN"
      },
      "execution_count": null,
      "outputs": []
    },
    {
      "cell_type": "markdown",
      "source": [
        "##### 1. Why did you pick the specific chart?"
      ],
      "metadata": {
        "id": "bbFf2-_FphqN"
      }
    },
    {
      "cell_type": "markdown",
      "source": [
        "Answer Here.\n",
        "Show how often rides had no assigned driver."
      ],
      "metadata": {
        "id": "loh7H2nzphqN"
      }
    },
    {
      "cell_type": "markdown",
      "source": [
        "##### 2. What is/are the insight(s) found from the chart?"
      ],
      "metadata": {
        "id": "_ouA3fa0phqN"
      }
    },
    {
      "cell_type": "markdown",
      "source": [
        "Answer Here\n",
        "\n",
        "High count of NULLs = supply shortage."
      ],
      "metadata": {
        "id": "VECbqPI7phqN"
      }
    },
    {
      "cell_type": "markdown",
      "source": [
        "##### 3. Will the gained insights help creating a positive business impact?\n",
        "Are there any insights that lead to negative growth? Justify with specific reason."
      ],
      "metadata": {
        "id": "Seke61FWphqN"
      }
    },
    {
      "cell_type": "markdown",
      "source": [
        "Answer Here\n",
        "\n",
        "Business Impact: Negative — shows missed opportunities."
      ],
      "metadata": {
        "id": "DW4_bGpfphqN"
      }
    },
    {
      "cell_type": "markdown",
      "source": [
        "#### Chart - 7"
      ],
      "metadata": {
        "id": "PIIx-8_IphqN"
      }
    },
    {
      "cell_type": "code",
      "source": [
        "# Chart - 7 visualization code\n",
        "missing_drop = df['Drop timestamp'].isna().sum()\n",
        "print(f\"Number of missing drop timestamps: {missing_drop}\")"
      ],
      "metadata": {
        "id": "lqAIGUfyphqO"
      },
      "execution_count": null,
      "outputs": []
    },
    {
      "cell_type": "markdown",
      "source": [
        "##### 1. Why did you pick the specific chart?"
      ],
      "metadata": {
        "id": "t27r6nlMphqO"
      }
    },
    {
      "cell_type": "markdown",
      "source": [
        "Answer Here.\n",
        "\n",
        "Capture incomplete trips."
      ],
      "metadata": {
        "id": "iv6ro40sphqO"
      }
    },
    {
      "cell_type": "markdown",
      "source": [
        "##### 2. What is/are the insight(s) found from the chart?"
      ],
      "metadata": {
        "id": "r2jJGEOYphqO"
      }
    },
    {
      "cell_type": "markdown",
      "source": [
        "Answer Here\n",
        "\n",
        " High = high failure/cancellation rate."
      ],
      "metadata": {
        "id": "Po6ZPi4hphqO"
      }
    },
    {
      "cell_type": "markdown",
      "source": [
        "##### 3. Will the gained insights help creating a positive business impact?\n",
        "Are there any insights that lead to negative growth? Justify with specific reason."
      ],
      "metadata": {
        "id": "b0JNsNcRphqO"
      }
    },
    {
      "cell_type": "markdown",
      "source": [
        "Answer Here\n",
        "\n",
        "Business Impact: Negative — damages customer trust."
      ],
      "metadata": {
        "id": "xvSq8iUTphqO"
      }
    },
    {
      "cell_type": "markdown",
      "source": [
        "#### Chart - 8"
      ],
      "metadata": {
        "id": "BZR9WyysphqO"
      }
    },
    {
      "cell_type": "code",
      "source": [
        "# Chart - 8 visualization code\n",
        "print(f\"Total ride requests: {df.shape[0]}\")"
      ],
      "metadata": {
        "id": "TdPTWpAVphqO"
      },
      "execution_count": null,
      "outputs": []
    },
    {
      "cell_type": "markdown",
      "source": [
        "##### 1. Why did you pick the specific chart?"
      ],
      "metadata": {
        "id": "jj7wYXLtphqO"
      }
    },
    {
      "cell_type": "markdown",
      "source": [
        "Answer Here.\n",
        "\n",
        "Baseline metric."
      ],
      "metadata": {
        "id": "Ob8u6rCTphqO"
      }
    },
    {
      "cell_type": "markdown",
      "source": [
        "##### 2. What is/are the insight(s) found from the chart?"
      ],
      "metadata": {
        "id": "eZrbJ2SmphqO"
      }
    },
    {
      "cell_type": "markdown",
      "source": [
        "Answer Here\n",
        "\n",
        " Total ride demand."
      ],
      "metadata": {
        "id": "mZtgC_hjphqO"
      }
    },
    {
      "cell_type": "markdown",
      "source": [
        "##### 3. Will the gained insights help creating a positive business impact?\n",
        "Are there any insights that lead to negative growth? Justify with specific reason."
      ],
      "metadata": {
        "id": "rFu4xreNphqO"
      }
    },
    {
      "cell_type": "markdown",
      "source": [
        "Answer Here\n",
        "\n",
        "Business Impact: Shows market size and platform use."
      ],
      "metadata": {
        "id": "ey_0qi68phqO"
      }
    },
    {
      "cell_type": "code",
      "source": [
        "# ============================\n",
        "# ✅ BIVARIATE ANALYSIS (8 Charts)\n",
        "# ============================"
      ],
      "metadata": {
        "id": "4mv7z0o5ZHpO"
      },
      "execution_count": null,
      "outputs": []
    },
    {
      "cell_type": "markdown",
      "source": [
        "#### Chart - 9"
      ],
      "metadata": {
        "id": "YJ55k-q6phqO"
      }
    },
    {
      "cell_type": "code",
      "source": [
        "# Chart - 9 visualization code\n",
        "plt.figure(figsize=(10,5))\n",
        "sns.countplot(data=df, x='Time Slot', hue='Status')\n",
        "plt.title(\"Ride Status by Time Slot\")\n",
        "plt.xticks(rotation=45)\n",
        "plt.show()"
      ],
      "metadata": {
        "id": "B2aS4O1ophqO"
      },
      "execution_count": null,
      "outputs": []
    },
    {
      "cell_type": "markdown",
      "source": [
        "##### 1. Why did you pick the specific chart?"
      ],
      "metadata": {
        "id": "gCFgpxoyphqP"
      }
    },
    {
      "cell_type": "markdown",
      "source": [
        "Answer Here.\n",
        "\n",
        "Understand performance over time."
      ],
      "metadata": {
        "id": "TVxDimi2phqP"
      }
    },
    {
      "cell_type": "markdown",
      "source": [
        "##### 2. What is/are the insight(s) found from the chart?"
      ],
      "metadata": {
        "id": "OVtJsKN_phqQ"
      }
    },
    {
      "cell_type": "markdown",
      "source": [
        "Answer Here\n",
        "\n",
        "Failures peak at night and early morning."
      ],
      "metadata": {
        "id": "ngGi97qjphqQ"
      }
    },
    {
      "cell_type": "markdown",
      "source": [
        "##### 3. Will the gained insights help creating a positive business impact?\n",
        "Are there any insights that lead to negative growth? Justify with specific reason."
      ],
      "metadata": {
        "id": "lssrdh5qphqQ"
      }
    },
    {
      "cell_type": "markdown",
      "source": [
        "Answer Here\n",
        "\n",
        "Business Impact: Target incentives during weak supply hours."
      ],
      "metadata": {
        "id": "tBpY5ekJphqQ"
      }
    },
    {
      "cell_type": "markdown",
      "source": [
        "#### Chart - 10"
      ],
      "metadata": {
        "id": "U2RJ9gkRphqQ"
      }
    },
    {
      "cell_type": "code",
      "source": [
        "# Chart - 10 visualization code\n",
        "sns.countplot(data=df, x='Pickup point', hue='Status')\n",
        "plt.title(\"Ride Status by Pickup Location\")\n",
        "plt.show()"
      ],
      "metadata": {
        "id": "GM7a4YP4phqQ"
      },
      "execution_count": null,
      "outputs": []
    },
    {
      "cell_type": "markdown",
      "source": [
        "##### 1. Why did you pick the specific chart?"
      ],
      "metadata": {
        "id": "1M8mcRywphqQ"
      }
    },
    {
      "cell_type": "markdown",
      "source": [
        "Answer Here.\n",
        "\n",
        "Compare success/failure by location."
      ],
      "metadata": {
        "id": "8agQvks0phqQ"
      }
    },
    {
      "cell_type": "markdown",
      "source": [
        "##### 2. What is/are the insight(s) found from the chart?"
      ],
      "metadata": {
        "id": "tgIPom80phqQ"
      }
    },
    {
      "cell_type": "markdown",
      "source": [
        "Answer Here\n",
        "\n",
        " Airport sees more no-car availability issues."
      ],
      "metadata": {
        "id": "Qp13pnNzphqQ"
      }
    },
    {
      "cell_type": "markdown",
      "source": [
        "##### 3. Will the gained insights help creating a positive business impact?\n",
        "Are there any insights that lead to negative growth? Justify with specific reason."
      ],
      "metadata": {
        "id": "JMzcOPDDphqR"
      }
    },
    {
      "cell_type": "markdown",
      "source": [
        "Answer Here\n",
        "\n",
        "Business Impact: Adds urgency for better airport supply."
      ],
      "metadata": {
        "id": "R4Ka1PC2phqR"
      }
    },
    {
      "cell_type": "markdown",
      "source": [
        "#### Chart - 11"
      ],
      "metadata": {
        "id": "x-EpHcCOp1ci"
      }
    },
    {
      "cell_type": "code",
      "source": [
        "# Chart - 11 visualization code\n",
        "sns.countplot(data=df, x='Hour', hue='Status')\n",
        "plt.title(\"Hourly Ride Status\")\n",
        "plt.show()"
      ],
      "metadata": {
        "id": "mAQTIvtqp1cj"
      },
      "execution_count": null,
      "outputs": []
    },
    {
      "cell_type": "markdown",
      "source": [
        "##### 1. Why did you pick the specific chart?"
      ],
      "metadata": {
        "id": "X_VqEhTip1ck"
      }
    },
    {
      "cell_type": "markdown",
      "source": [
        "Answer Here.\n",
        "\n",
        " Breakdown hourly demand/success."
      ],
      "metadata": {
        "id": "-vsMzt_np1ck"
      }
    },
    {
      "cell_type": "markdown",
      "source": [
        "##### 2. What is/are the insight(s) found from the chart?"
      ],
      "metadata": {
        "id": "8zGJKyg5p1ck"
      }
    },
    {
      "cell_type": "markdown",
      "source": [
        "Answer Here\n",
        "\n",
        " Early morning has max cancellations."
      ],
      "metadata": {
        "id": "ZYdMsrqVp1ck"
      }
    },
    {
      "cell_type": "markdown",
      "source": [
        "##### 3. Will the gained insights help creating a positive business impact?\n",
        "Are there any insights that lead to negative growth? Justify with specific reason."
      ],
      "metadata": {
        "id": "PVzmfK_Ep1ck"
      }
    },
    {
      "cell_type": "markdown",
      "source": [
        "Answer Here\n",
        "\n",
        "Business Impact: Optimize early shifts."
      ],
      "metadata": {
        "id": "druuKYZpp1ck"
      }
    },
    {
      "cell_type": "markdown",
      "source": [
        "#### Chart - 12"
      ],
      "metadata": {
        "id": "n3dbpmDWp1ck"
      }
    },
    {
      "cell_type": "code",
      "source": [
        "# Chart - 12 visualization code\n",
        "sns.countplot(data=df, x='Day', hue='Status', order=[\"Monday\",\"Tuesday\",\"Wednesday\",\"Thursday\",\"Friday\",\"Saturday\",\"Sunday\"])\n",
        "plt.title(\"Status by Day\")\n",
        "plt.xticks(rotation=45)\n",
        "plt.show()"
      ],
      "metadata": {
        "id": "bwevp1tKp1ck"
      },
      "execution_count": null,
      "outputs": []
    },
    {
      "cell_type": "markdown",
      "source": [
        "##### 1. Why did you pick the specific chart?"
      ],
      "metadata": {
        "id": "ylSl6qgtp1ck"
      }
    },
    {
      "cell_type": "markdown",
      "source": [
        "Answer Here.\n",
        "\n",
        "Understand weekly failure patterns."
      ],
      "metadata": {
        "id": "m2xqNkiQp1ck"
      }
    },
    {
      "cell_type": "markdown",
      "source": [
        "##### 2. What is/are the insight(s) found from the chart?"
      ],
      "metadata": {
        "id": "ZWILFDl5p1ck"
      }
    },
    {
      "cell_type": "markdown",
      "source": [
        "Answer Here\n",
        "\n",
        " Weekends slightly worse for fulfillment."
      ],
      "metadata": {
        "id": "x-lUsV2mp1ck"
      }
    },
    {
      "cell_type": "markdown",
      "source": [
        "##### 3. Will the gained insights help creating a positive business impact?\n",
        "Are there any insights that lead to negative growth? Justify with specific reason."
      ],
      "metadata": {
        "id": "M7G43BXep1ck"
      }
    },
    {
      "cell_type": "markdown",
      "source": [
        "Answer Here\n",
        "\n",
        "Business Impact: Prep extra fleet for weekends."
      ],
      "metadata": {
        "id": "5wwDJXsLp1cl"
      }
    },
    {
      "cell_type": "markdown",
      "source": [
        "#### Chart - 13"
      ],
      "metadata": {
        "id": "Ag9LCva-p1cl"
      }
    },
    {
      "cell_type": "code",
      "source": [
        "# Chart - 13 visualization code\n",
        "failures = df[df['Status'].isin(['Cancelled', 'No Cars Available'])]\n",
        "sns.countplot(data=failures, x='Time Slot', hue='Status')\n",
        "plt.title(\"Failure Reasons by Time Slot\")\n",
        "plt.xticks(rotation=45)\n",
        "plt.show()"
      ],
      "metadata": {
        "id": "EUfxeq9-p1cl"
      },
      "execution_count": null,
      "outputs": []
    },
    {
      "cell_type": "markdown",
      "source": [
        "##### 1. Why did you pick the specific chart?"
      ],
      "metadata": {
        "id": "E6MkPsBcp1cl"
      }
    },
    {
      "cell_type": "markdown",
      "source": [
        "Answer Here.\n",
        "\n",
        " Differentiate failure reasons."
      ],
      "metadata": {
        "id": "V22bRsFWp1cl"
      }
    },
    {
      "cell_type": "markdown",
      "source": [
        "##### 2. What is/are the insight(s) found from the chart?"
      ],
      "metadata": {
        "id": "2cELzS2fp1cl"
      }
    },
    {
      "cell_type": "markdown",
      "source": [
        "Answer Here\n",
        "\n",
        " No cars common at Night; Cancellations in Morning."
      ],
      "metadata": {
        "id": "ozQPc2_Ip1cl"
      }
    },
    {
      "cell_type": "markdown",
      "source": [
        "##### 3. Will the gained insights help creating a positive business impact?\n",
        "Are there any insights that lead to negative growth? Justify with specific reason."
      ],
      "metadata": {
        "id": "3MPXvC8up1cl"
      }
    },
    {
      "cell_type": "markdown",
      "source": [
        "Answer Here\n",
        "\n",
        " Business Impact: Tailor different solutions per failure type."
      ],
      "metadata": {
        "id": "GL8l1tdLp1cl"
      }
    },
    {
      "cell_type": "markdown",
      "source": [
        "#### Chart - 14 - Correlation Heatmap"
      ],
      "metadata": {
        "id": "NC_X3p0fY2L0"
      }
    },
    {
      "cell_type": "code",
      "source": [
        "# Correlation Heatmap visualization code\n",
        "heatmap_data = df.groupby(['Pickup point', 'Time Slot']).size().unstack(fill_value=0)\n",
        "sns.heatmap(heatmap_data, annot=True, fmt=\"d\", cmap=\"Blues\")\n",
        "plt.title(\"Pickup Point vs Time Slot\")\n",
        "plt.show()"
      ],
      "metadata": {
        "id": "xyC9zolEZNRQ"
      },
      "execution_count": null,
      "outputs": []
    },
    {
      "cell_type": "markdown",
      "source": [
        "##### 1. Why did you pick the specific chart?"
      ],
      "metadata": {
        "id": "UV0SzAkaZNRQ"
      }
    },
    {
      "cell_type": "markdown",
      "source": [
        "Answer Here.\n",
        "\n",
        "Localize problem areas by time."
      ],
      "metadata": {
        "id": "DVPuT8LYZNRQ"
      }
    },
    {
      "cell_type": "markdown",
      "source": [
        "##### 2. What is/are the insight(s) found from the chart?"
      ],
      "metadata": {
        "id": "YPEH6qLeZNRQ"
      }
    },
    {
      "cell_type": "markdown",
      "source": [
        "Answer Here\n",
        "\n",
        "Insight: Airport suffers in Early Morning & Night.\n",
        "\n",
        "Business Impact: Pinpoints high-failure conditions."
      ],
      "metadata": {
        "id": "bfSqtnDqZNRR"
      }
    },
    {
      "cell_type": "markdown",
      "source": [
        "#### Chart - 15 - Pair Plot"
      ],
      "metadata": {
        "id": "q29F0dvdveiT"
      }
    },
    {
      "cell_type": "code",
      "source": [
        "# Pair Plot visualization code\n",
        "completed = df[df['Status'] == 'Trip Completed']\n",
        "sns.countplot(data=completed, x='Hour')\n",
        "plt.title(\"Hourly Completed Trips\")\n",
        "plt.show()\n"
      ],
      "metadata": {
        "id": "o58-TEIhveiU"
      },
      "execution_count": null,
      "outputs": []
    },
    {
      "cell_type": "markdown",
      "source": [
        "##### 1. Why did you pick the specific chart?"
      ],
      "metadata": {
        "id": "EXh0U9oCveiU"
      }
    },
    {
      "cell_type": "markdown",
      "source": [
        "Answer Here.\n",
        "\n",
        "Visualize fulfilled demand."
      ],
      "metadata": {
        "id": "eMmPjTByveiU"
      }
    },
    {
      "cell_type": "markdown",
      "source": [
        "##### 2. What is/are the insight(s) found from the chart?"
      ],
      "metadata": {
        "id": "22aHeOlLveiV"
      }
    },
    {
      "cell_type": "markdown",
      "source": [
        "Answer Here\n",
        "\n",
        "Insight: Successful trips cluster during day.\n",
        "\n",
        "Business Impact: Monitor successful fleet hours."
      ],
      "metadata": {
        "id": "uPQ8RGwHveiV"
      }
    },
    {
      "cell_type": "code",
      "source": [
        "# Chart 16: Hourly Demand (again, demand chart)\n",
        "# Why: Reinforce hourly demand data.\n",
        "# Insight: Validates earlier hourly chart.\n",
        "# Business Impact: Same as Chart 4.\n",
        "sns.countplot(data=df, x='Hour')\n",
        "plt.title(\"Hourly Demand\")\n",
        "plt.show()\n"
      ],
      "metadata": {
        "id": "vjW6-2yDZ5E5"
      },
      "execution_count": null,
      "outputs": []
    },
    {
      "cell_type": "code",
      "source": [
        "\n",
        "# ============================\n",
        "# ✅ MULTIVARIATE ANALYSIS (4 Charts)\n",
        "# ============================\n"
      ],
      "metadata": {
        "id": "YQCNVXfJaA8C"
      },
      "execution_count": null,
      "outputs": []
    },
    {
      "cell_type": "code",
      "source": [
        "# Chart 17: Time Slot vs Pickup Point vs Status (Stacked)\n",
        "# Why: Full picture of gap by time and location.\n",
        "# Insight: Airport at night has highest issues.\n",
        "# Business Impact: Strategic time/place coverage.\n",
        "multi_data = df.groupby(['Time Slot', 'Pickup point', 'Status']).size().reset_index(name='Count')\n",
        "sns.catplot(x='Time Slot', y='Count', hue='Status', col='Pickup point', data=multi_data, kind='bar', height=5, aspect=1.2)\n",
        "plt.subplots_adjust(top=0.85)\n",
        "plt.suptitle(\"Time Slot vs Pickup Point vs Status\")\n",
        "plt.show()\n"
      ],
      "metadata": {
        "id": "1D-4l6uMaJkF"
      },
      "execution_count": null,
      "outputs": []
    },
    {
      "cell_type": "code",
      "source": [
        "# Chart 18: Hour vs Day vs Status\n",
        "# Why: When & which day service fails most?\n",
        "# Insight: Weekends 2-6 AM have worst fulfillment.\n",
        "# Business Impact: Prioritize surge planning.\n",
        "heatmap_data2 = df[df['Status'] != 'Trip Completed'].pivot_table(index='Hour', columns='Day', values='Request id', aggfunc='count')\n",
        "sns.heatmap(heatmap_data2, annot=True, cmap='Reds')\n",
        "plt.title(\"Failed Requests by Hour and Day\")\n",
        "plt.show()"
      ],
      "metadata": {
        "id": "MR8FZPabaNEk"
      },
      "execution_count": null,
      "outputs": []
    },
    {
      "cell_type": "code",
      "source": [
        "# Chart 19: Pickup Point – Status – Completion Rate\n",
        "# Why: Shows status proportionally by pickup.\n",
        "# Insight: City has better fulfillment than Airport.\n",
        "# Business Impact: Adjust driver distribution.\n",
        "status_data = df.groupby(['Pickup point', 'Status']).size().unstack(fill_value=0)\n",
        "(status_data.T / status_data.sum(axis=1)).T.plot(kind='bar', stacked=True)\n",
        "plt.title(\"Pickup Point vs Status %\")\n",
        "plt.ylabel(\"Proportion\")\n",
        "plt.show()"
      ],
      "metadata": {
        "id": "FD1HCnRbaS1Q"
      },
      "execution_count": null,
      "outputs": []
    },
    {
      "cell_type": "code",
      "source": [
        "# Chart 20: Demand vs Completed vs Failures by Time Slot\n",
        "# Why: Compare total demand and gaps.\n",
        "# Insight: Gap > Completed in key slots.\n",
        "# Business Impact: Prioritize slots with highest missed demand.\n",
        "gap_data = df.groupby('Time Slot').agg(\n",
        "    Total=('Request id', 'count'),\n",
        "    Completed=('Status', lambda x: (x == 'Trip Completed').sum()),\n",
        "    Failed=('Status', lambda x: (x != 'Trip Completed').sum())\n",
        ").reset_index()\n",
        "gap_data.plot(x='Time Slot', kind='bar', stacked=False)\n",
        "plt.title(\"Demand vs Completed vs Failed by Time Slot\")\n",
        "plt.xticks(rotation=45)\n",
        "plt.show()"
      ],
      "metadata": {
        "id": "Nm1IkjpPaWE6"
      },
      "execution_count": null,
      "outputs": []
    },
    {
      "cell_type": "markdown",
      "source": [
        "## **5. Solution to Business Objective**"
      ],
      "metadata": {
        "id": "JcMwzZxoAimU"
      }
    },
    {
      "cell_type": "markdown",
      "source": [
        "#### What do you suggest the client to achieve Business Objective ?\n",
        "Explain Briefly."
      ],
      "metadata": {
        "id": "8G2x9gOozGDZ"
      }
    },
    {
      "cell_type": "markdown",
      "source": [
        "Answer Here.\n",
        "\n",
        "To achieve the core business objective of reducing the supply-demand gap and improving fulfillment rates, I recommend the following data-driven actions:\n",
        "\n",
        "1.Time-Specific Driver Allocation\n",
        "\n",
        "Insight: Most failed rides occur in Early Morning (5–9 AM) and Late Night (9 PM–5 AM), especially due to No Cars Available.\n",
        "\n",
        "Recommendation:\n",
        "\n",
        "Increase driver availability during these time slots through targeted incentives or shift planning.\n",
        "\n",
        "Implement dynamic pricing to balance demand with supply in high-failure hours.\n",
        "\n",
        "2.Location-Based Supply Strategy\n",
        "\n",
        "Insight: The Airport consistently underperforms compared to the City, especially during peak hours.\n",
        "\n",
        "Recommendation:\n",
        "\n",
        "Deploy dedicated driver pools or waiting areas at the Airport.\n",
        "\n",
        "Offer real-time priority ride assignment to drivers near airports during peak windows.\n",
        "\n",
        "3.Reduce Cancellations via Driver Engagement\n",
        "\n",
        "Insight: High cancellations happen in the Morning slot, likely due to driver reluctance or mismatched preferences.\n",
        "\n",
        "Recommendation:\n",
        "\n",
        "Implement cancellation penalties and better ride-matching algorithms.\n",
        "\n",
        "Introduce ride-type preferences (short vs long, airport vs local) to reduce friction.\n"
      ],
      "metadata": {
        "id": "pASKb0qOza21"
      }
    },
    {
      "cell_type": "markdown",
      "source": [
        "# **Conclusion**"
      ],
      "metadata": {
        "id": "gCX9965dhzqZ"
      }
    },
    {
      "cell_type": "markdown",
      "source": [
        "Write the conclusion here.\n",
        "\n",
        "This project identified key gaps between Uber’s ride demand and supply, especially during specific time slots and locations. The insights and KPIs generated can help Uber optimize driver allocation, reduce failures, and improve overall service efficiency."
      ],
      "metadata": {
        "id": "Fjb1IsQkh3yE"
      }
    },
    {
      "cell_type": "markdown",
      "source": [
        "### ***Hurrah! You have successfully completed your EDA Capstone Project !!!***"
      ],
      "metadata": {
        "id": "gIfDvo9L0UH2"
      }
    }
  ]
}