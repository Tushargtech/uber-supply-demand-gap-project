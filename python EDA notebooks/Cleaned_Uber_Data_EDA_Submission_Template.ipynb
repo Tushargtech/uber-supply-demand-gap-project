{
  "cells": [
    {
      "cell_type": "markdown",
      "metadata": {
        "id": "vncDsAP0Gaoa"
      },
      "source": [
        "# **Project Name**    - UBER SUPPLY DEMAND GAP\n",
        "\n"
      ]
    },
    {
      "cell_type": "markdown",
      "metadata": {
        "id": "beRrZCGUAJYm"
      },
      "source": [
        "##### **Project Type**    - EDA/Regression/Classification/Unsupervised\n",
        "##### **Contribution**    - Individual\n",
        "##### **Member 1 -** - Tushar Garg\n"
      ]
    },
    {
      "cell_type": "markdown",
      "metadata": {
        "id": "FJNUwmbgGyua"
      },
      "source": [
        "# **Project Summary -**\n",
        "This project focuses on analyzing and visualizing Uber ride request data to understand patterns in demand, supply, and service gaps. Using advanced data analytics techniques, we aim to uncover critical insights that can help Uber improve ride fulfillment rates, allocate resources more efficiently, and enhance customer satisfaction.\n",
        "\n",
        " A :- Objective\n",
        "\n",
        "The primary goal of this project is to identify when and where Uber experiences significant supply-demand mismatches. Specifically, we explore the following key questions:\n",
        "\n",
        "When is demand highest and lowest?\n",
        "\n",
        "Which time slots and locations have the most unfulfilled ride requests?\n",
        "\n",
        "What are the primary reasons for failed ride requests — cancellations or lack of available drivers?\n",
        "\n",
        "How can Uber optimize driver deployment to improve fulfillment?\n",
        "\n",
        "B:- Dataset Description\n",
        "\n",
        "The dataset used in this project contains thousands of anonymized Uber ride requests. Each record includes:\n",
        "\n",
        "Request timestamp\n",
        "\n",
        "Drop timestamp\n",
        "\n",
        "Pickup point (City or Airport)\n",
        "\n",
        "Driver ID (or blank if no driver was assigned)\n",
        "\n",
        "Ride status (Trip Completed, Cancelled, No Cars Available)\n",
        "\n",
        "We cleaned the dataset to extract:\n",
        "\n",
        "Hour of request\n",
        "\n",
        "Day of week\n",
        "\n",
        "Time Slot (Morning, Afternoon, Evening, Night)\n",
        "\n",
        "We also handled missing values, standardized formats, and created new derived columns to support deeper insights.\n",
        "\n",
        "C:- Tools and Techniques Used\n",
        "\n",
        "Python (Pandas, Seaborn, Matplotlib) for EDA and visualization\n",
        "\n",
        "SQL for structured queries and validation\n",
        "\n",
        "Excel for final dashboards and KPI creation\n",
        "\n",
        "Pivot Tables and Charts for interactive visual analysis\n",
        "\n",
        "Slicers, Heatmaps, and Conditional Formatting for presentation-quality insights\n",
        "\n",
        "D:- Analysis Framework\n",
        "\n",
        "We followed the UBM Analysis Structure:\n",
        "\n",
        "Univariate Analysis – Focused on single variables like Time Slot, Status, Pickup Point\n",
        "\n",
        "Bivariate Analysis – Explored interactions between two variables, such as Time Slot vs Status\n",
        "\n",
        "Multivariate Analysis – Evaluated multiple variables simultaneously, such as Pickup Point vs Time Slot vs Status\n",
        "\n",
        "A total of 20 charts were created, providing detailed visual analysis across these dimensions.\n",
        "\n",
        "E:- Key Insights\n",
        "\n",
        "Peak Demand occurs during Morning and Evening, especially at the Airport.\n",
        "\n",
        "Trip Completion Rate is less than 50%, revealing a large unmet demand.\n",
        "\n",
        "Failures are largely due to \"No Cars Available\" at Night and \"Cancellations\" in the Morning.\n",
        "\n",
        "The Airport location consistently underperforms in fulfillment, especially during Night slots.\n",
        "\n",
        "Supply Gap Rate is high (>50%), indicating a major business challenge.\n",
        "\n",
        "Multivariate Heatmaps highlight that early morning hours on weekends are the worst performing windows.\n",
        "\n",
        "F:- Final Deliverables\n",
        "\n",
        "Cleaned Dataset (.csv)\n",
        "\n",
        "Python EDA Notebook (.ipynb)\n",
        "\n",
        "SQL Query File with all 20 chart insights\n",
        "\n",
        "Excel Dashboard with charts, slicers, and KPIs\n",
        "\n",
        "PDF Summary Report compiling insights and recommendations\n",
        "\n",
        "G:- Business Impact\n",
        "\n",
        "The insights provided by this project can directly help Uber:\n",
        "\n",
        "Deploy drivers during peak demand slots\n",
        "\n",
        "Improve ride fulfillment rates\n",
        "\n",
        "Reduce cancellations and customer churn\n",
        "\n",
        "Optimize operations between City and Airport pickup points\n",
        "\n",
        "This project showcases how structured data analytics and visualization can turn raw ride logs into actionable strategies for smarter mobility services.\n",
        "\n",
        "\n"
      ]
    },
    {
      "cell_type": "markdown",
      "metadata": {
        "id": "F6v_1wHtG2nS"
      },
      "source": [
        "Write the summary here within 500-600 words."
      ]
    },
    {
      "cell_type": "markdown",
      "metadata": {
        "id": "w6K7xa23Elo4"
      },
      "source": [
        "# **GitHub Link -**"
      ]
    },
    {
      "cell_type": "markdown",
      "metadata": {
        "id": "h1o69JH3Eqqn"
      },
      "source": [
        "Provide your GitHub Link here."
      ]
    },
    {
      "cell_type": "markdown",
      "metadata": {
        "id": "yQaldy8SH6Dl"
      },
      "source": [
        "# **Problem Statement**\n"
      ]
    },
    {
      "cell_type": "markdown",
      "metadata": {
        "id": "DpeJGUA3kjGy"
      },
      "source": [
        "**Write Problem Statement Here.**\n",
        "\n",
        "This project aims to analyze Uber ride request data to identify the patterns and causes of ride failures, such as driver cancellations and unavailability of cars.\n",
        "\n",
        "Experiences fluctuations in ride requests across different times of the day and locations. A major challenge the company faces is the supply-demand mismatch, where user demand often exceeds the number of available drivers, leading to unfulfilled ride requests, customer dissatisfaction, and lost revenue opportunities.\n",
        "\n",
        "By uncovering when (time slots), where (pickup points), and why (status) these issues occur, the project seeks to provide data-driven insights to help Uber."
      ]
    },
    {
      "cell_type": "markdown",
      "metadata": {
        "id": "PH-0ReGfmX4f"
      },
      "source": [
        "#### **Define Your Business Objective?**\n",
        "The primary business objective of this project is to identify and understand the supply-demand gap in Uber ride requests, with the goal of improving ride fulfillment rates and enhancing customer satisfaction. This involves analyzing when, where, and why Uber is unable to meet user demand—whether due to unavailability of drivers, high cancellation rates, or operational inefficiencies.\n",
        "\n"
      ]
    },
    {
      "cell_type": "markdown",
      "metadata": {
        "id": "mDgbUHAGgjLW"
      },
      "source": [
        "# **General Guidelines** : -  "
      ]
    },
    {
      "cell_type": "markdown",
      "metadata": {
        "id": "ZrxVaUj-hHfC"
      },
      "source": [
        "1.   Well-structured, formatted, and commented code is required.\n",
        "2.   Exception Handling, Production Grade Code & Deployment Ready Code will be a plus. Those students will be awarded some additional credits.\n",
        "     \n",
        "     The additional credits will have advantages over other students during Star Student selection.\n",
        "       \n",
        "             [ Note: - Deployment Ready Code is defined as, the whole .ipynb notebook should be executable in one go\n",
        "                       without a single error logged. ]\n",
        "\n",
        "3.   Each and every logic should have proper comments.\n",
        "4. You may add as many number of charts you want. Make Sure for each and every chart the following format should be answered.\n",
        "        \n",
        "\n",
        "```\n",
        "# Chart visualization code\n",
        "```\n",
        "            \n",
        "\n",
        "*   Why did you pick the specific chart?\n",
        "*   What is/are the insight(s) found from the chart?\n",
        "* Will the gained insights help creating a positive business impact?\n",
        "Are there any insights that lead to negative growth? Justify with specific reason.\n",
        "\n",
        "5. You have to create at least 20 logical & meaningful charts having important insights.\n",
        "\n",
        "\n",
        "[ Hints : - Do the Vizualization in  a structured way while following \"UBM\" Rule.\n",
        "\n",
        "U - Univariate Analysis,\n",
        "\n",
        "B - Bivariate Analysis (Numerical - Categorical, Numerical - Numerical, Categorical - Categorical)\n",
        "\n",
        "M - Multivariate Analysis\n",
        " ]\n",
        "\n",
        "\n",
        "\n"
      ]
    },
    {
      "cell_type": "markdown",
      "metadata": {
        "id": "O_i_v8NEhb9l"
      },
      "source": [
        "# ***Let's Begin !***"
      ]
    },
    {
      "cell_type": "markdown",
      "metadata": {
        "id": "HhfV-JJviCcP"
      },
      "source": [
        "## ***1. Know Your Data***"
      ]
    },
    {
      "cell_type": "markdown",
      "metadata": {
        "id": "Y3lxredqlCYt"
      },
      "source": [
        "### Import Libraries"
      ]
    },
    {
      "cell_type": "code",
      "execution_count": null,
      "metadata": {
        "id": "M8Vqi-pPk-HR"
      },
      "outputs": [],
      "source": [
        "# Import Libraries\n",
        "\n",
        "\n",
        "import pandas as pd\n",
        "import io\n",
        "import matplotlib.pyplot as plt\n",
        "import seaborn as sns"
      ]
    },
    {
      "cell_type": "markdown",
      "metadata": {
        "id": "3RnN4peoiCZX"
      },
      "source": [
        "### Dataset Loading"
      ]
    },
    {
      "cell_type": "code",
      "execution_count": null,
      "metadata": {
        "id": "4CkvbW_SlZ_R"
      },
      "outputs": [],
      "source": [
        "#Providing dataset in GitHub Repository,choose that data as file path is not bieng able to traced.\n",
        "# Load Dataset\n",
        "from google.colab import files\n",
        "uploaded = files.upload()\n",
        "# Load the uploaded file\n",
        "file_name = list(uploaded.keys())[0]\n",
        "# Check the file extension to use the correct reading function\n",
        "if file_name.endswith('.csv'):\n",
        "  df = pd.read_csv(io.BytesIO(uploaded[file_name]))\n",
        "elif file_name.endswith('.xlsx'):\n",
        "  df = pd.read_excel(io.BytesIO(uploaded[file_name]))\n",
        "else:\n",
        "  print(\"Unsupported file format. Please upload a .csv or .xlsx file.\")\n",
        "  df = None\n",
        "\n",
        "if df is not None:\n",
        "  display(df.head())"
      ]
    },
    {
      "cell_type": "code",
      "execution_count": null,
      "metadata": {
        "id": "MUmEHN6vTZd4"
      },
      "outputs": [],
      "source": [
        "\n",
        "df.drop(columns=['Unnamed: 6'], inplace=True)\n",
        "df.columns"
      ]
    },
    {
      "cell_type": "markdown",
      "metadata": {
        "id": "x71ZqKXriCWQ"
      },
      "source": [
        "### Dataset First View"
      ]
    },
    {
      "cell_type": "code",
      "execution_count": null,
      "metadata": {
        "id": "LWNFOSvLl09H"
      },
      "outputs": [],
      "source": [
        "# Dataset First Look\n",
        "df.head()"
      ]
    },
    {
      "cell_type": "markdown",
      "metadata": {
        "id": "7hBIi_osiCS2"
      },
      "source": [
        "### Dataset Rows & Columns count"
      ]
    },
    {
      "cell_type": "code",
      "execution_count": null,
      "metadata": {
        "id": "Kllu7SJgmLij"
      },
      "outputs": [],
      "source": [
        "# Dataset Rows & Columns count\n",
        "rows, columns = df.shape\n",
        "\n",
        "print(f\"Total Rows: {rows}\")\n",
        "print(f\"Total Columns: {columns}\")"
      ]
    },
    {
      "cell_type": "markdown",
      "metadata": {
        "id": "JlHwYmJAmNHm"
      },
      "source": [
        "### Dataset Information"
      ]
    },
    {
      "cell_type": "code",
      "execution_count": null,
      "metadata": {
        "id": "e9hRXRi6meOf"
      },
      "outputs": [],
      "source": [
        "# Dataset Info\n",
        "df.info()"
      ]
    },
    {
      "cell_type": "markdown",
      "metadata": {
        "id": "35m5QtbWiB9F"
      },
      "source": [
        "#### Duplicate Values"
      ]
    },
    {
      "cell_type": "code",
      "execution_count": null,
      "metadata": {
        "id": "1sLdpKYkmox0"
      },
      "outputs": [],
      "source": [
        "# Dataset Duplicate Value Count\n",
        "duplicate_count = df.duplicated().sum()\n",
        "\n",
        "print(f\"Number of duplicate rows: {duplicate_count}\")"
      ]
    },
    {
      "cell_type": "markdown",
      "metadata": {
        "id": "PoPl-ycgm1ru"
      },
      "source": [
        "#### Missing Values/Null Values"
      ]
    },
    {
      "cell_type": "code",
      "execution_count": null,
      "metadata": {
        "id": "GgHWkxvamxVg"
      },
      "outputs": [],
      "source": [
        "# Missing Values/Null Values Count\n",
        "missing_values = df.isnull().sum()"
      ]
    },
    {
      "cell_type": "code",
      "execution_count": null,
      "metadata": {
        "id": "3q5wnI3om9sJ"
      },
      "outputs": [],
      "source": [
        "# Visualizing the missing values\n",
        "print(\"Missing Values Count:\\n\")\n",
        "print(missing_values)"
      ]
    },
    {
      "cell_type": "markdown",
      "metadata": {
        "id": "H0kj-8xxnORC"
      },
      "source": [
        "### What did you know about your dataset?"
      ]
    },
    {
      "cell_type": "markdown",
      "metadata": {
        "id": "gfoNAAC-nUe_"
      },
      "source": [
        "Answer Here\n",
        "\n",
        "The dataset contains detailed ride request logs from Uber, focusing on pickup and drop patterns, driver availability, and service status over a specific period. After loading and cleaning the dataset, I performed structural and exploratory analysis to understand its composition and key issues."
      ]
    },
    {
      "cell_type": "markdown",
      "metadata": {
        "id": "nA9Y7ga8ng1Z"
      },
      "source": [
        "## ***2. Understanding Your Variables***"
      ]
    },
    {
      "cell_type": "code",
      "execution_count": null,
      "metadata": {
        "id": "j7xfkqrt5Ag5"
      },
      "outputs": [],
      "source": [
        "# Dataset Columns\n",
        "print(f\"Total Columns: {columns}\")"
      ]
    },
    {
      "cell_type": "code",
      "execution_count": null,
      "metadata": {
        "id": "DnOaZdaE5Q5t"
      },
      "outputs": [],
      "source": [
        "# Dataset Describe\n",
        "df.describe()"
      ]
    },
    {
      "cell_type": "markdown",
      "metadata": {
        "id": "PBTbrJXOngz2"
      },
      "source": [
        "### Variables Description"
      ]
    },
    {
      "cell_type": "markdown",
      "metadata": {
        "id": "aJV4KIxSnxay"
      },
      "source": [
        "Answer Here\n",
        "\n",
        "Request timestamp-The exact date and time when the user requested a ride. Used to extract Hour, Day, and Time Slot.\n",
        "\n",
        "Drop timestamp\t-\tThe date and time when the ride was completed. If missing, the ride was not fulfilled.\n",
        "\n",
        "Driver id\t-\tUnique identifier of the driver assigned to the ride. Blank if no driver was available.\n",
        "\n",
        "Pickup point-\tThe location where the ride was requested: either City or Airport.\n",
        "\n",
        "Status-\tThe final status of the ride\n",
        "\n"
      ]
    },
    {
      "cell_type": "markdown",
      "metadata": {
        "id": "u3PMJOP6ngxN"
      },
      "source": [
        "### Check Unique Values for each variable."
      ]
    },
    {
      "cell_type": "code",
      "execution_count": null,
      "metadata": {
        "id": "zms12Yq5n-jE"
      },
      "outputs": [],
      "source": [
        "# Check Unique Values for each variable.\n",
        "unique_values = df.nunique()\n",
        "print(unique_values)"
      ]
    },
    {
      "cell_type": "markdown",
      "metadata": {
        "id": "dauF4eBmngu3"
      },
      "source": [
        "## 3. ***Data Wrangling***"
      ]
    },
    {
      "cell_type": "markdown",
      "metadata": {
        "id": "bKJF3rekwFvQ"
      },
      "source": [
        "### Data Wrangling Code"
      ]
    },
    {
      "cell_type": "code",
      "execution_count": null,
      "metadata": {
        "id": "wk-9a2fpoLcV"
      },
      "outputs": [],
      "source": [
        "# Write your code to make your dataset analysis ready.\n",
        "df['Request timestamp'] = pd.to_datetime(df['Request timestamp'], dayfirst=True)\n",
        "df['Drop timestamp'] = pd.to_datetime(df['Drop timestamp'], errors='coerce', dayfirst=True)\n",
        "df['Hour'] = df['Request timestamp'].dt.hour\n",
        "df['Day'] = df['Request timestamp'].dt.day_name()\n",
        "def get_time_slot(hour):\n",
        "    if hour < 5:\n",
        "        return \"Late Night\"\n",
        "    elif hour < 9:\n",
        "        return \"Early Morning\"\n",
        "    elif hour < 12:\n",
        "        return \"Morning\"\n",
        "    elif hour < 17:\n",
        "        return \"Afternoon\"\n",
        "    elif hour < 21:\n",
        "        return \"Evening\"\n",
        "    else:\n",
        "        return \"Night\"\n",
        "\n",
        "df['Time Slot'] = df['Hour'].apply(get_time_slot)\n"
      ]
    },
    {
      "cell_type": "markdown",
      "metadata": {
        "id": "MSa1f5Uengrz"
      },
      "source": [
        "### What all manipulations have you done and insights you found?"
      ]
    },
    {
      "cell_type": "markdown",
      "metadata": {
        "id": "LbyXE7I1olp8"
      },
      "source": [
        "Answer Here.\n",
        "\n",
        "Converts the Request timestamp column from text/string format to a Python datetime object\n",
        "Converts Drop timestamp to datetime.\n",
        "\n",
        "Creates a new column Hour that extracts the hour (0–23) from the timestamp.\n",
        "\n",
        "Helps identify time-based patterns in demand and failures.\n",
        "\n",
        "Creates a Day column like Monday, Tuesday, etc.\n",
        "\n",
        "Useful for analyzing weekday vs weekend behavior."
      ]
    },
    {
      "cell_type": "markdown",
      "metadata": {
        "id": "GF8Ens_Soomf"
      },
      "source": [
        "## ***4. Data Vizualization, Storytelling & Experimenting with charts : Understand the relationships between variables***"
      ]
    },
    {
      "cell_type": "code",
      "execution_count": null,
      "metadata": {
        "id": "z_o-D2EDX5wv"
      },
      "outputs": [],
      "source": [
        "\n",
        "# ============================\n",
        "# ✅ UNIVARIATE ANALYSIS\n",
        "# ============================\n"
      ]
    },
    {
      "cell_type": "markdown",
      "metadata": {
        "id": "0wOQAZs5pc--"
      },
      "source": [
        "#### Chart - 1"
      ]
    },
    {
      "cell_type": "code",
      "execution_count": null,
      "metadata": {
        "id": "7v_ESjsspbW7"
      },
      "outputs": [],
      "source": [
        "# Chart - 1 visualization code\n",
        "plt.figure(figsize=(8,5))\n",
        "sns.countplot(data=df, x='Time Slot', order=df['Time Slot'].value_counts().index)\n",
        "plt.title(\"Total Requests by Time Slot\")\n",
        "plt.xticks(rotation=45)\n",
        "plt.tight_layout()\n",
        "plt.show()\n"
      ]
    },
    {
      "cell_type": "markdown",
      "metadata": {
        "id": "K5QZ13OEpz2H"
      },
      "source": [
        "##### 1. Why did you pick the specific chart?"
      ]
    },
    {
      "cell_type": "markdown",
      "metadata": {
        "id": "XESiWehPqBRc"
      },
      "source": [
        "Answer Here.\n",
        "\n",
        "Identifies peak periods of demand throughout the day."
      ]
    },
    {
      "cell_type": "markdown",
      "metadata": {
        "id": "lQ7QKXXCp7Bj"
      },
      "source": [
        "##### 2. What is/are the insight(s) found from the chart?"
      ]
    },
    {
      "cell_type": "markdown",
      "metadata": {
        "id": "C_j1G7yiqdRP"
      },
      "source": [
        "Answer Here\n",
        "\n",
        "High demand during Morning and Evening."
      ]
    },
    {
      "cell_type": "markdown",
      "metadata": {
        "id": "448CDAPjqfQr"
      },
      "source": [
        "##### 3. Will the gained insights help creating a positive business impact?\n",
        "Are there any insights that lead to negative growth? Justify with specific reason."
      ]
    },
    {
      "cell_type": "markdown",
      "metadata": {
        "id": "3cspy4FjqxJW"
      },
      "source": [
        "Answer Here\n",
        "\n",
        " Business Impact: Positive — helps allocate drivers efficiently.\n",
        "\n",
        " Risk: Missed demand = customer churn."
      ]
    },
    {
      "cell_type": "markdown",
      "metadata": {
        "id": "KSlN3yHqYklG"
      },
      "source": [
        "#### Chart - 2"
      ]
    },
    {
      "cell_type": "code",
      "execution_count": null,
      "metadata": {
        "id": "R4YgtaqtYklH"
      },
      "outputs": [],
      "source": [
        "# Chart - 2 visualization code\n",
        "plt.figure(figsize=(6,6))\n",
        "df['Status'].value_counts().plot.pie(autopct='%1.1f%%', startangle=90)\n",
        "plt.title(\"Ride Status Distribution\")\n",
        "plt.ylabel('')\n",
        "plt.tight_layout()\n",
        "plt.show()\n"
      ]
    },
    {
      "cell_type": "markdown",
      "metadata": {
        "id": "t6dVpIINYklI"
      },
      "source": [
        "##### 1. Why did you pick the specific chart?"
      ]
    },
    {
      "cell_type": "markdown",
      "metadata": {
        "id": "5aaW0BYyYklI"
      },
      "source": [
        "Answer Here.\n",
        "\n",
        "Understand how rides are fulfilled or fail."
      ]
    },
    {
      "cell_type": "markdown",
      "metadata": {
        "id": "ijmpgYnKYklI"
      },
      "source": [
        "##### 2. What is/are the insight(s) found from the chart?"
      ]
    },
    {
      "cell_type": "markdown",
      "metadata": {
        "id": "PSx9atu2YklI"
      },
      "source": [
        "Answer Here\n",
        "\n",
        "A large share of rides are either cancelled or unfulfilled."
      ]
    },
    {
      "cell_type": "markdown",
      "metadata": {
        "id": "-JiQyfWJYklI"
      },
      "source": [
        "##### 3. Will the gained insights help creating a positive business impact?\n",
        "Are there any insights that lead to negative growth? Justify with specific reason."
      ]
    },
    {
      "cell_type": "markdown",
      "metadata": {
        "id": "BcBbebzrYklV"
      },
      "source": [
        "Answer Here\n",
        "\n",
        "Business Impact: Negative — points to reliability issues."
      ]
    },
    {
      "cell_type": "markdown",
      "metadata": {
        "id": "EM7whBJCYoAo"
      },
      "source": [
        "#### Chart - 3"
      ]
    },
    {
      "cell_type": "code",
      "execution_count": null,
      "metadata": {
        "id": "t6GMdE67YoAp"
      },
      "outputs": [],
      "source": [
        "# Chart - 3 visualization code\n",
        "sns.countplot(data=df, x='Pickup point')\n",
        "plt.title(\"Requests by Pickup Point\")\n",
        "plt.show()\n"
      ]
    },
    {
      "cell_type": "markdown",
      "metadata": {
        "id": "fge-S5ZAYoAp"
      },
      "source": [
        "##### 1. Why did you pick the specific chart?"
      ]
    },
    {
      "cell_type": "markdown",
      "metadata": {
        "id": "5dBItgRVYoAp"
      },
      "source": [
        "Answer Here.\n",
        "\n",
        "Shows which location (City/Airport) has more demand."
      ]
    },
    {
      "cell_type": "markdown",
      "metadata": {
        "id": "85gYPyotYoAp"
      },
      "source": [
        "##### 2. What is/are the insight(s) found from the chart?"
      ]
    },
    {
      "cell_type": "markdown",
      "metadata": {
        "id": "4jstXR6OYoAp"
      },
      "source": [
        "Answer Here\n",
        "\n",
        "Airport has more frequent requests."
      ]
    },
    {
      "cell_type": "markdown",
      "metadata": {
        "id": "RoGjAbkUYoAp"
      },
      "source": [
        "##### 3. Will the gained insights help creating a positive business impact?\n",
        "Are there any insights that lead to negative growth? Justify with specific reason."
      ]
    },
    {
      "cell_type": "markdown",
      "metadata": {
        "id": "zfJ8IqMcYoAp"
      },
      "source": [
        "Answer Here\n",
        "\n",
        "Business Impact: Positive — guide for targeted driver allocation."
      ]
    },
    {
      "cell_type": "markdown",
      "metadata": {
        "id": "4Of9eVA-YrdM"
      },
      "source": [
        "#### Chart - 4"
      ]
    },
    {
      "cell_type": "code",
      "execution_count": null,
      "metadata": {
        "id": "irlUoxc8YrdO"
      },
      "outputs": [],
      "source": [
        "# Chart - 4 visualization code\n",
        "sns.countplot(data=df, x='Hour')\n",
        "plt.title(\"Hourly Ride Requests\")\n",
        "plt.show()\n"
      ]
    },
    {
      "cell_type": "markdown",
      "metadata": {
        "id": "iky9q4vBYrdO"
      },
      "source": [
        "##### 1. Why did you pick the specific chart?"
      ]
    },
    {
      "cell_type": "markdown",
      "metadata": {
        "id": "aJRCwT6DYrdO"
      },
      "source": [
        "Answer Here.\n",
        "\n",
        "Reveal demand distribution across hours."
      ]
    },
    {
      "cell_type": "markdown",
      "metadata": {
        "id": "F6T5p64dYrdO"
      },
      "source": [
        "##### 2. What is/are the insight(s) found from the chart?"
      ]
    },
    {
      "cell_type": "markdown",
      "metadata": {
        "id": "Xx8WAJvtYrdO"
      },
      "source": [
        "Answer Here\n",
        "\n",
        "Peaks around early morning and evening."
      ]
    },
    {
      "cell_type": "markdown",
      "metadata": {
        "id": "y-Ehk30pYrdP"
      },
      "source": [
        "##### 3. Will the gained insights help creating a positive business impact?\n",
        "Are there any insights that lead to negative growth? Justify with specific reason."
      ]
    },
    {
      "cell_type": "markdown",
      "metadata": {
        "id": "jLNxxz7MYrdP"
      },
      "source": [
        "Answer Here\n",
        "\n",
        "Business Impact: Positive — helps manage shift planning."
      ]
    },
    {
      "cell_type": "markdown",
      "metadata": {
        "id": "bamQiAODYuh1"
      },
      "source": [
        "#### Chart - 5"
      ]
    },
    {
      "cell_type": "code",
      "execution_count": null,
      "metadata": {
        "id": "TIJwrbroYuh3"
      },
      "outputs": [],
      "source": [
        "# Chart - 5 visualization code\n",
        "sns.countplot(data=df, x='Day', order=[\"Monday\",\"Tuesday\",\"Wednesday\",\"Thursday\",\"Friday\",\"Saturday\",\"Sunday\"])\n",
        "plt.title(\"Ride Requests by Day of Week\")\n",
        "plt.xticks(rotation=45)\n",
        "plt.show()"
      ]
    },
    {
      "cell_type": "markdown",
      "metadata": {
        "id": "QHF8YVU7Yuh3"
      },
      "source": [
        "##### 1. Why did you pick the specific chart?"
      ]
    },
    {
      "cell_type": "markdown",
      "metadata": {
        "id": "dcxuIMRPYuh3"
      },
      "source": [
        "Answer Here.\n",
        "\n",
        " Compare day-of-week demand."
      ]
    },
    {
      "cell_type": "markdown",
      "metadata": {
        "id": "GwzvFGzlYuh3"
      },
      "source": [
        "##### 2. What is/are the insight(s) found from the chart?"
      ]
    },
    {
      "cell_type": "markdown",
      "metadata": {
        "id": "uyqkiB8YYuh3"
      },
      "source": [
        "Answer Here\n",
        "\n",
        " Demand is slightly higher on weekdays."
      ]
    },
    {
      "cell_type": "markdown",
      "metadata": {
        "id": "qYpmQ266Yuh3"
      },
      "source": [
        "##### 3. Will the gained insights help creating a positive business impact?\n",
        "Are there any insights that lead to negative growth? Justify with specific reason."
      ]
    },
    {
      "cell_type": "markdown",
      "metadata": {
        "id": "_WtzZ_hCYuh4"
      },
      "source": [
        "Answer Here\n",
        "\n",
        "Business Impact: Moderate — helps plan weekly schedules."
      ]
    },
    {
      "cell_type": "markdown",
      "metadata": {
        "id": "OH-pJp9IphqM"
      },
      "source": [
        "#### Chart - 6"
      ]
    },
    {
      "cell_type": "code",
      "execution_count": null,
      "metadata": {
        "id": "kuRf4wtuphqN"
      },
      "outputs": [],
      "source": [
        "# Chart - 6 visualization code\n",
        "missing_drivers = df['Driver id'].isna().sum()\n",
        "print(f\"Number of missing driver IDs: {missing_drivers}\")\n"
      ]
    },
    {
      "cell_type": "markdown",
      "metadata": {
        "id": "bbFf2-_FphqN"
      },
      "source": [
        "##### 1. Why did you pick the specific chart?"
      ]
    },
    {
      "cell_type": "markdown",
      "metadata": {
        "id": "loh7H2nzphqN"
      },
      "source": [
        "Answer Here.\n",
        "Show how often rides had no assigned driver."
      ]
    },
    {
      "cell_type": "markdown",
      "metadata": {
        "id": "_ouA3fa0phqN"
      },
      "source": [
        "##### 2. What is/are the insight(s) found from the chart?"
      ]
    },
    {
      "cell_type": "markdown",
      "metadata": {
        "id": "VECbqPI7phqN"
      },
      "source": [
        "Answer Here\n",
        "\n",
        "High count of NULLs = supply shortage."
      ]
    },
    {
      "cell_type": "markdown",
      "metadata": {
        "id": "Seke61FWphqN"
      },
      "source": [
        "##### 3. Will the gained insights help creating a positive business impact?\n",
        "Are there any insights that lead to negative growth? Justify with specific reason."
      ]
    },
    {
      "cell_type": "markdown",
      "metadata": {
        "id": "DW4_bGpfphqN"
      },
      "source": [
        "Answer Here\n",
        "\n",
        "Business Impact: Negative — shows missed opportunities."
      ]
    },
    {
      "cell_type": "markdown",
      "metadata": {
        "id": "PIIx-8_IphqN"
      },
      "source": [
        "#### Chart - 7"
      ]
    },
    {
      "cell_type": "code",
      "execution_count": null,
      "metadata": {
        "id": "lqAIGUfyphqO"
      },
      "outputs": [],
      "source": [
        "# Chart - 7 visualization code\n",
        "missing_drop = df['Drop timestamp'].isna().sum()\n",
        "print(f\"Number of missing drop timestamps: {missing_drop}\")"
      ]
    },
    {
      "cell_type": "markdown",
      "metadata": {
        "id": "t27r6nlMphqO"
      },
      "source": [
        "##### 1. Why did you pick the specific chart?"
      ]
    },
    {
      "cell_type": "markdown",
      "metadata": {
        "id": "iv6ro40sphqO"
      },
      "source": [
        "Answer Here.\n",
        "\n",
        "Capture incomplete trips."
      ]
    },
    {
      "cell_type": "markdown",
      "metadata": {
        "id": "r2jJGEOYphqO"
      },
      "source": [
        "##### 2. What is/are the insight(s) found from the chart?"
      ]
    },
    {
      "cell_type": "markdown",
      "metadata": {
        "id": "Po6ZPi4hphqO"
      },
      "source": [
        "Answer Here\n",
        "\n",
        " High = high failure/cancellation rate."
      ]
    },
    {
      "cell_type": "markdown",
      "metadata": {
        "id": "b0JNsNcRphqO"
      },
      "source": [
        "##### 3. Will the gained insights help creating a positive business impact?\n",
        "Are there any insights that lead to negative growth? Justify with specific reason."
      ]
    },
    {
      "cell_type": "markdown",
      "metadata": {
        "id": "xvSq8iUTphqO"
      },
      "source": [
        "Answer Here\n",
        "\n",
        "Business Impact: Negative — damages customer trust."
      ]
    },
    {
      "cell_type": "markdown",
      "metadata": {
        "id": "BZR9WyysphqO"
      },
      "source": [
        "#### Chart - 8"
      ]
    },
    {
      "cell_type": "code",
      "execution_count": null,
      "metadata": {
        "id": "TdPTWpAVphqO"
      },
      "outputs": [],
      "source": [
        "# Chart - 8 visualization code\n",
        "print(f\"Total ride requests: {df.shape[0]}\")"
      ]
    },
    {
      "cell_type": "markdown",
      "metadata": {
        "id": "jj7wYXLtphqO"
      },
      "source": [
        "##### 1. Why did you pick the specific chart?"
      ]
    },
    {
      "cell_type": "markdown",
      "metadata": {
        "id": "Ob8u6rCTphqO"
      },
      "source": [
        "Answer Here.\n",
        "\n",
        "Baseline metric."
      ]
    },
    {
      "cell_type": "markdown",
      "metadata": {
        "id": "eZrbJ2SmphqO"
      },
      "source": [
        "##### 2. What is/are the insight(s) found from the chart?"
      ]
    },
    {
      "cell_type": "markdown",
      "metadata": {
        "id": "mZtgC_hjphqO"
      },
      "source": [
        "Answer Here\n",
        "\n",
        " Total ride demand."
      ]
    },
    {
      "cell_type": "markdown",
      "metadata": {
        "id": "rFu4xreNphqO"
      },
      "source": [
        "##### 3. Will the gained insights help creating a positive business impact?\n",
        "Are there any insights that lead to negative growth? Justify with specific reason."
      ]
    },
    {
      "cell_type": "markdown",
      "metadata": {
        "id": "ey_0qi68phqO"
      },
      "source": [
        "Answer Here\n",
        "\n",
        "Business Impact: Shows market size and platform use."
      ]
    },
    {
      "cell_type": "code",
      "execution_count": null,
      "metadata": {
        "id": "4mv7z0o5ZHpO"
      },
      "outputs": [],
      "source": [
        "# ============================\n",
        "# ✅ BIVARIATE ANALYSIS (8 Charts)\n",
        "# ============================"
      ]
    },
    {
      "cell_type": "markdown",
      "metadata": {
        "id": "YJ55k-q6phqO"
      },
      "source": [
        "#### Chart - 9"
      ]
    },
    {
      "cell_type": "code",
      "execution_count": null,
      "metadata": {
        "id": "B2aS4O1ophqO"
      },
      "outputs": [],
      "source": [
        "# Chart - 9 visualization code\n",
        "plt.figure(figsize=(10,5))\n",
        "sns.countplot(data=df, x='Time Slot', hue='Status')\n",
        "plt.title(\"Ride Status by Time Slot\")\n",
        "plt.xticks(rotation=45)\n",
        "plt.show()"
      ]
    },
    {
      "cell_type": "markdown",
      "metadata": {
        "id": "gCFgpxoyphqP"
      },
      "source": [
        "##### 1. Why did you pick the specific chart?"
      ]
    },
    {
      "cell_type": "markdown",
      "metadata": {
        "id": "TVxDimi2phqP"
      },
      "source": [
        "Answer Here.\n",
        "\n",
        "Understand performance over time."
      ]
    },
    {
      "cell_type": "markdown",
      "metadata": {
        "id": "OVtJsKN_phqQ"
      },
      "source": [
        "##### 2. What is/are the insight(s) found from the chart?"
      ]
    },
    {
      "cell_type": "markdown",
      "metadata": {
        "id": "ngGi97qjphqQ"
      },
      "source": [
        "Answer Here\n",
        "\n",
        "Failures peak at night and early morning."
      ]
    },
    {
      "cell_type": "markdown",
      "metadata": {
        "id": "lssrdh5qphqQ"
      },
      "source": [
        "##### 3. Will the gained insights help creating a positive business impact?\n",
        "Are there any insights that lead to negative growth? Justify with specific reason."
      ]
    },
    {
      "cell_type": "markdown",
      "metadata": {
        "id": "tBpY5ekJphqQ"
      },
      "source": [
        "Answer Here\n",
        "\n",
        "Business Impact: Target incentives during weak supply hours."
      ]
    },
    {
      "cell_type": "markdown",
      "metadata": {
        "id": "U2RJ9gkRphqQ"
      },
      "source": [
        "#### Chart - 10"
      ]
    },
    {
      "cell_type": "code",
      "execution_count": null,
      "metadata": {
        "id": "GM7a4YP4phqQ"
      },
      "outputs": [],
      "source": [
        "# Chart - 10 visualization code\n",
        "sns.countplot(data=df, x='Pickup point', hue='Status')\n",
        "plt.title(\"Ride Status by Pickup Location\")\n",
        "plt.show()"
      ]
    },
    {
      "cell_type": "markdown",
      "metadata": {
        "id": "1M8mcRywphqQ"
      },
      "source": [
        "##### 1. Why did you pick the specific chart?"
      ]
    },
    {
      "cell_type": "markdown",
      "metadata": {
        "id": "8agQvks0phqQ"
      },
      "source": [
        "Answer Here.\n",
        "\n",
        "Compare success/failure by location."
      ]
    },
    {
      "cell_type": "markdown",
      "metadata": {
        "id": "tgIPom80phqQ"
      },
      "source": [
        "##### 2. What is/are the insight(s) found from the chart?"
      ]
    },
    {
      "cell_type": "markdown",
      "metadata": {
        "id": "Qp13pnNzphqQ"
      },
      "source": [
        "Answer Here\n",
        "\n",
        " Airport sees more no-car availability issues."
      ]
    },
    {
      "cell_type": "markdown",
      "metadata": {
        "id": "JMzcOPDDphqR"
      },
      "source": [
        "##### 3. Will the gained insights help creating a positive business impact?\n",
        "Are there any insights that lead to negative growth? Justify with specific reason."
      ]
    },
    {
      "cell_type": "markdown",
      "metadata": {
        "id": "R4Ka1PC2phqR"
      },
      "source": [
        "Answer Here\n",
        "\n",
        "Business Impact: Adds urgency for better airport supply."
      ]
    },
    {
      "cell_type": "markdown",
      "metadata": {
        "id": "x-EpHcCOp1ci"
      },
      "source": [
        "#### Chart - 11"
      ]
    },
    {
      "cell_type": "code",
      "execution_count": null,
      "metadata": {
        "id": "mAQTIvtqp1cj"
      },
      "outputs": [],
      "source": [
        "# Chart - 11 visualization code\n",
        "sns.countplot(data=df, x='Hour', hue='Status')\n",
        "plt.title(\"Hourly Ride Status\")\n",
        "plt.show()"
      ]
    },
    {
      "cell_type": "markdown",
      "metadata": {
        "id": "X_VqEhTip1ck"
      },
      "source": [
        "##### 1. Why did you pick the specific chart?"
      ]
    },
    {
      "cell_type": "markdown",
      "metadata": {
        "id": "-vsMzt_np1ck"
      },
      "source": [
        "Answer Here.\n",
        "\n",
        " Breakdown hourly demand/success."
      ]
    },
    {
      "cell_type": "markdown",
      "metadata": {
        "id": "8zGJKyg5p1ck"
      },
      "source": [
        "##### 2. What is/are the insight(s) found from the chart?"
      ]
    },
    {
      "cell_type": "markdown",
      "metadata": {
        "id": "ZYdMsrqVp1ck"
      },
      "source": [
        "Answer Here\n",
        "\n",
        " Early morning has max cancellations."
      ]
    },
    {
      "cell_type": "markdown",
      "metadata": {
        "id": "PVzmfK_Ep1ck"
      },
      "source": [
        "##### 3. Will the gained insights help creating a positive business impact?\n",
        "Are there any insights that lead to negative growth? Justify with specific reason."
      ]
    },
    {
      "cell_type": "markdown",
      "metadata": {
        "id": "druuKYZpp1ck"
      },
      "source": [
        "Answer Here\n",
        "\n",
        "Business Impact: Optimize early shifts."
      ]
    },
    {
      "cell_type": "markdown",
      "metadata": {
        "id": "n3dbpmDWp1ck"
      },
      "source": [
        "#### Chart - 12"
      ]
    },
    {
      "cell_type": "code",
      "execution_count": null,
      "metadata": {
        "id": "bwevp1tKp1ck"
      },
      "outputs": [],
      "source": [
        "# Chart - 12 visualization code\n",
        "sns.countplot(data=df, x='Day', hue='Status', order=[\"Monday\",\"Tuesday\",\"Wednesday\",\"Thursday\",\"Friday\",\"Saturday\",\"Sunday\"])\n",
        "plt.title(\"Status by Day\")\n",
        "plt.xticks(rotation=45)\n",
        "plt.show()"
      ]
    },
    {
      "cell_type": "markdown",
      "metadata": {
        "id": "ylSl6qgtp1ck"
      },
      "source": [
        "##### 1. Why did you pick the specific chart?"
      ]
    },
    {
      "cell_type": "markdown",
      "metadata": {
        "id": "m2xqNkiQp1ck"
      },
      "source": [
        "Answer Here.\n",
        "\n",
        "Understand weekly failure patterns."
      ]
    },
    {
      "cell_type": "markdown",
      "metadata": {
        "id": "ZWILFDl5p1ck"
      },
      "source": [
        "##### 2. What is/are the insight(s) found from the chart?"
      ]
    },
    {
      "cell_type": "markdown",
      "metadata": {
        "id": "x-lUsV2mp1ck"
      },
      "source": [
        "Answer Here\n",
        "\n",
        " Weekends slightly worse for fulfillment."
      ]
    },
    {
      "cell_type": "markdown",
      "metadata": {
        "id": "M7G43BXep1ck"
      },
      "source": [
        "##### 3. Will the gained insights help creating a positive business impact?\n",
        "Are there any insights that lead to negative growth? Justify with specific reason."
      ]
    },
    {
      "cell_type": "markdown",
      "metadata": {
        "id": "5wwDJXsLp1cl"
      },
      "source": [
        "Answer Here\n",
        "\n",
        "Business Impact: Prep extra fleet for weekends."
      ]
    },
    {
      "cell_type": "markdown",
      "metadata": {
        "id": "Ag9LCva-p1cl"
      },
      "source": [
        "#### Chart - 13"
      ]
    },
    {
      "cell_type": "code",
      "execution_count": null,
      "metadata": {
        "id": "EUfxeq9-p1cl"
      },
      "outputs": [],
      "source": [
        "# Chart - 13 visualization code\n",
        "failures = df[df['Status'].isin(['Cancelled', 'No Cars Available'])]\n",
        "sns.countplot(data=failures, x='Time Slot', hue='Status')\n",
        "plt.title(\"Failure Reasons by Time Slot\")\n",
        "plt.xticks(rotation=45)\n",
        "plt.show()"
      ]
    },
    {
      "cell_type": "markdown",
      "metadata": {
        "id": "E6MkPsBcp1cl"
      },
      "source": [
        "##### 1. Why did you pick the specific chart?"
      ]
    },
    {
      "cell_type": "markdown",
      "metadata": {
        "id": "V22bRsFWp1cl"
      },
      "source": [
        "Answer Here.\n",
        "\n",
        " Differentiate failure reasons."
      ]
    },
    {
      "cell_type": "markdown",
      "metadata": {
        "id": "2cELzS2fp1cl"
      },
      "source": [
        "##### 2. What is/are the insight(s) found from the chart?"
      ]
    },
    {
      "cell_type": "markdown",
      "metadata": {
        "id": "ozQPc2_Ip1cl"
      },
      "source": [
        "Answer Here\n",
        "\n",
        " No cars common at Night; Cancellations in Morning."
      ]
    },
    {
      "cell_type": "markdown",
      "metadata": {
        "id": "3MPXvC8up1cl"
      },
      "source": [
        "##### 3. Will the gained insights help creating a positive business impact?\n",
        "Are there any insights that lead to negative growth? Justify with specific reason."
      ]
    },
    {
      "cell_type": "markdown",
      "metadata": {
        "id": "GL8l1tdLp1cl"
      },
      "source": [
        "Answer Here\n",
        "\n",
        " Business Impact: Tailor different solutions per failure type."
      ]
    },
    {
      "cell_type": "markdown",
      "metadata": {
        "id": "NC_X3p0fY2L0"
      },
      "source": [
        "#### Chart - 14 - Correlation Heatmap"
      ]
    },
    {
      "cell_type": "code",
      "execution_count": null,
      "metadata": {
        "id": "xyC9zolEZNRQ"
      },
      "outputs": [],
      "source": [
        "# Correlation Heatmap visualization code\n",
        "heatmap_data = df.groupby(['Pickup point', 'Time Slot']).size().unstack(fill_value=0)\n",
        "sns.heatmap(heatmap_data, annot=True, fmt=\"d\", cmap=\"Blues\")\n",
        "plt.title(\"Pickup Point vs Time Slot\")\n",
        "plt.show()"
      ]
    },
    {
      "cell_type": "markdown",
      "metadata": {
        "id": "UV0SzAkaZNRQ"
      },
      "source": [
        "##### 1. Why did you pick the specific chart?"
      ]
    },
    {
      "cell_type": "markdown",
      "metadata": {
        "id": "DVPuT8LYZNRQ"
      },
      "source": [
        "Answer Here.\n",
        "\n",
        "Localize problem areas by time."
      ]
    },
    {
      "cell_type": "markdown",
      "metadata": {
        "id": "YPEH6qLeZNRQ"
      },
      "source": [
        "##### 2. What is/are the insight(s) found from the chart?"
      ]
    },
    {
      "cell_type": "markdown",
      "metadata": {
        "id": "bfSqtnDqZNRR"
      },
      "source": [
        "Answer Here\n",
        "\n",
        "Insight: Airport suffers in Early Morning & Night.\n",
        "\n",
        "Business Impact: Pinpoints high-failure conditions."
      ]
    },
    {
      "cell_type": "markdown",
      "metadata": {
        "id": "q29F0dvdveiT"
      },
      "source": [
        "#### Chart - 15 - Pair Plot"
      ]
    },
    {
      "cell_type": "code",
      "execution_count": null,
      "metadata": {
        "id": "o58-TEIhveiU"
      },
      "outputs": [],
      "source": [
        "# Pair Plot visualization code\n",
        "completed = df[df['Status'] == 'Trip Completed']\n",
        "sns.countplot(data=completed, x='Hour')\n",
        "plt.title(\"Hourly Completed Trips\")\n",
        "plt.show()\n"
      ]
    },
    {
      "cell_type": "markdown",
      "metadata": {
        "id": "EXh0U9oCveiU"
      },
      "source": [
        "##### 1. Why did you pick the specific chart?"
      ]
    },
    {
      "cell_type": "markdown",
      "metadata": {
        "id": "eMmPjTByveiU"
      },
      "source": [
        "Answer Here.\n",
        "\n",
        "Visualize fulfilled demand."
      ]
    },
    {
      "cell_type": "markdown",
      "metadata": {
        "id": "22aHeOlLveiV"
      },
      "source": [
        "##### 2. What is/are the insight(s) found from the chart?"
      ]
    },
    {
      "cell_type": "markdown",
      "metadata": {
        "id": "uPQ8RGwHveiV"
      },
      "source": [
        "Answer Here\n",
        "\n",
        "Insight: Successful trips cluster during day.\n",
        "\n",
        "Business Impact: Monitor successful fleet hours."
      ]
    },
    {
      "cell_type": "code",
      "execution_count": null,
      "metadata": {
        "id": "vjW6-2yDZ5E5"
      },
      "outputs": [],
      "source": [
        "# Chart 16: Hourly Demand (again, demand chart)\n",
        "# Why: Reinforce hourly demand data.\n",
        "# Insight: Validates earlier hourly chart.\n",
        "# Business Impact: Same as Chart 4.\n",
        "sns.countplot(data=df, x='Hour')\n",
        "plt.title(\"Hourly Demand\")\n",
        "plt.show()\n"
      ]
    },
    {
      "cell_type": "code",
      "execution_count": null,
      "metadata": {
        "id": "YQCNVXfJaA8C"
      },
      "outputs": [],
      "source": [
        "\n",
        "# ============================\n",
        "# ✅ MULTIVARIATE ANALYSIS (4 Charts)\n",
        "# ============================\n"
      ]
    },
    {
      "cell_type": "code",
      "execution_count": null,
      "metadata": {
        "id": "1D-4l6uMaJkF"
      },
      "outputs": [],
      "source": [
        "# Chart 17: Time Slot vs Pickup Point vs Status (Stacked)\n",
        "# Why: Full picture of gap by time and location.\n",
        "# Insight: Airport at night has highest issues.\n",
        "# Business Impact: Strategic time/place coverage.\n",
        "multi_data = df.groupby(['Time Slot', 'Pickup point', 'Status']).size().reset_index(name='Count')\n",
        "sns.catplot(x='Time Slot', y='Count', hue='Status', col='Pickup point', data=multi_data, kind='bar', height=5, aspect=1.2)\n",
        "plt.subplots_adjust(top=0.85)\n",
        "plt.suptitle(\"Time Slot vs Pickup Point vs Status\")\n",
        "plt.show()\n"
      ]
    },
    {
      "cell_type": "code",
      "execution_count": null,
      "metadata": {
        "id": "MR8FZPabaNEk"
      },
      "outputs": [],
      "source": [
        "# Chart 18: Hour vs Day vs Status\n",
        "# Why: When & which day service fails most?\n",
        "# Insight: Weekends 2-6 AM have worst fulfillment.\n",
        "# Business Impact: Prioritize surge planning.\n",
        "heatmap_data2 = df[df['Status'] != 'Trip Completed'].pivot_table(index='Hour', columns='Day', values='Request id', aggfunc='count')\n",
        "sns.heatmap(heatmap_data2, annot=True, cmap='Reds')\n",
        "plt.title(\"Failed Requests by Hour and Day\")\n",
        "plt.show()"
      ]
    },
    {
      "cell_type": "code",
      "execution_count": null,
      "metadata": {
        "id": "FD1HCnRbaS1Q"
      },
      "outputs": [],
      "source": [
        "# Chart 19: Pickup Point – Status – Completion Rate\n",
        "# Why: Shows status proportionally by pickup.\n",
        "# Insight: City has better fulfillment than Airport.\n",
        "# Business Impact: Adjust driver distribution.\n",
        "status_data = df.groupby(['Pickup point', 'Status']).size().unstack(fill_value=0)\n",
        "(status_data.T / status_data.sum(axis=1)).T.plot(kind='bar', stacked=True)\n",
        "plt.title(\"Pickup Point vs Status %\")\n",
        "plt.ylabel(\"Proportion\")\n",
        "plt.show()"
      ]
    },
    {
      "cell_type": "code",
      "execution_count": null,
      "metadata": {
        "id": "Nm1IkjpPaWE6"
      },
      "outputs": [],
      "source": [
        "# Chart 20: Demand vs Completed vs Failures by Time Slot\n",
        "# Why: Compare total demand and gaps.\n",
        "# Insight: Gap > Completed in key slots.\n",
        "# Business Impact: Prioritize slots with highest missed demand.\n",
        "gap_data = df.groupby('Time Slot').agg(\n",
        "    Total=('Request id', 'count'),\n",
        "    Completed=('Status', lambda x: (x == 'Trip Completed').sum()),\n",
        "    Failed=('Status', lambda x: (x != 'Trip Completed').sum())\n",
        ").reset_index()\n",
        "gap_data.plot(x='Time Slot', kind='bar', stacked=False)\n",
        "plt.title(\"Demand vs Completed vs Failed by Time Slot\")\n",
        "plt.xticks(rotation=45)\n",
        "plt.show()"
      ]
    },
    {
      "cell_type": "markdown",
      "metadata": {
        "id": "JcMwzZxoAimU"
      },
      "source": [
        "## **5. Solution to Business Objective**"
      ]
    },
    {
      "cell_type": "markdown",
      "metadata": {
        "id": "8G2x9gOozGDZ"
      },
      "source": [
        "#### What do you suggest the client to achieve Business Objective ?\n",
        "Explain Briefly."
      ]
    },
    {
      "cell_type": "markdown",
      "metadata": {
        "id": "pASKb0qOza21"
      },
      "source": [
        "Answer Here.\n",
        "\n",
        "To achieve the core business objective of reducing the supply-demand gap and improving fulfillment rates, I recommend the following data-driven actions:\n",
        "\n",
        "1.Time-Specific Driver Allocation\n",
        "\n",
        "Insight: Most failed rides occur in Early Morning (5–9 AM) and Late Night (9 PM–5 AM), especially due to No Cars Available.\n",
        "\n",
        "Recommendation:\n",
        "\n",
        "Increase driver availability during these time slots through targeted incentives or shift planning.\n",
        "\n",
        "Implement dynamic pricing to balance demand with supply in high-failure hours.\n",
        "\n",
        "2.Location-Based Supply Strategy\n",
        "\n",
        "Insight: The Airport consistently underperforms compared to the City, especially during peak hours.\n",
        "\n",
        "Recommendation:\n",
        "\n",
        "Deploy dedicated driver pools or waiting areas at the Airport.\n",
        "\n",
        "Offer real-time priority ride assignment to drivers near airports during peak windows.\n",
        "\n",
        "3.Reduce Cancellations via Driver Engagement\n",
        "\n",
        "Insight: High cancellations happen in the Morning slot, likely due to driver reluctance or mismatched preferences.\n",
        "\n",
        "Recommendation:\n",
        "\n",
        "Implement cancellation penalties and better ride-matching algorithms.\n",
        "\n",
        "Introduce ride-type preferences (short vs long, airport vs local) to reduce friction.\n"
      ]
    },
    {
      "cell_type": "markdown",
      "metadata": {
        "id": "gCX9965dhzqZ"
      },
      "source": [
        "# **Conclusion**"
      ]
    },
    {
      "cell_type": "markdown",
      "metadata": {
        "id": "Fjb1IsQkh3yE"
      },
      "source": [
        "Write the conclusion here.\n",
        "\n",
        "This project identified key gaps between Uber’s ride demand and supply, especially during specific time slots and locations. The insights and KPIs generated can help Uber optimize driver allocation, reduce failures, and improve overall service efficiency."
      ]
    },
    {
      "cell_type": "markdown",
      "metadata": {
        "id": "gIfDvo9L0UH2"
      },
      "source": [
        "### ***Hurrah! You have successfully completed your EDA Capstone Project !!!***"
      ]
    }
  ],
  "metadata": {
    "colab": {
      "private_outputs": true,
      "provenance": []
    },
    "kernelspec": {
      "display_name": "Python 3",
      "name": "python3"
    },
    "language_info": {
      "name": "python"
    }
  },
  "nbformat": 4,
  "nbformat_minor": 0
}
